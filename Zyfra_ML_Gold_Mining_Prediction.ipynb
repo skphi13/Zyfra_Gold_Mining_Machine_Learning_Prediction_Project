{
 "cells": [
  {
   "cell_type": "markdown",
   "metadata": {},
   "source": [
    "## Machine Learning for Gold Mining\n",
    "\n",
    "### Project description\n",
    "\n",
    "### Introduction\n",
    "The objective of this project is to develop a machine learning model to predict the amount of gold recovered from gold ore. This model aims to optimize the production process and eliminate unprofitable parameters for Zyfra, a company specializing in efficiency solutions for heavy industry. The dataset includes various parameters from the extraction and purification processes of gold ore.\n",
    "\n",
    "Data description\n",
    "\n",
    "Technological process\n",
    "* Rougher feed — raw material\n",
    "* Rougher additions (or reagent additions) — flotation reagents: Xanthate, Sulphate, Depressant\n",
    "* Xanthate — promoter or flotation activator;\n",
    "* Sulphate — sodium sulphide for this particular process;\n",
    "* Depressant — sodium silicate.\n",
    "* Rougher process — flotation\n",
    "* Rougher tails — product residues\n",
    "* Float banks — flotation unit\n",
    "* Cleaner process — purification\n",
    "* Rougher Au — rougher gold concentrate\n",
    "* Final Au — final gold concentrate\n",
    "\n",
    "Goal\n",
    "\n",
    "- **Build a model that should predict the amount of gold recovered from gold ore**\n",
    "- **Provide insights and recommendations based on the model's performance to improve the efficiency of the gold recovery process for Zyfra.**"
   ]
  },
  {
   "cell_type": "code",
   "execution_count": 1,
   "metadata": {},
   "outputs": [],
   "source": [
    "# Import Libraries\n",
    "import numpy as np\n",
    "import pandas as pd\n",
    "import matplotlib.pyplot as plt\n",
    "import seaborn as sns\n",
    "import os\n",
    "import warnings\n",
    "from tqdm import tqdm\n",
    "from sklearn.preprocessing import StandardScaler\n",
    "from sklearn.pipeline import Pipeline\n",
    "from sklearn.model_selection import cross_val_score, train_test_split, GridSearchCV\n",
    "from sklearn.metrics import make_scorer, mean_absolute_error\n",
    "from sklearn.linear_model import LinearRegression\n",
    "from sklearn.tree import DecisionTreeRegressor\n",
    "from sklearn.ensemble import RandomForestRegressor\n",
    "from sklearn.dummy import DummyRegressor\n",
    "from sklearn.feature_selection import RFE"
   ]
  },
  {
   "cell_type": "code",
   "execution_count": 2,
   "metadata": {},
   "outputs": [
    {
     "name": "stdout",
     "output_type": "stream",
     "text": [
      "(16860, 87)\n",
      "(5856, 53)\n",
      "(22716, 87)\n"
     ]
    }
   ],
   "source": [
    "# Load datasets\n",
    "train_data = pd.read_csv('/datasets/gold_recovery_train.csv')\n",
    "test_data = pd.read_csv('/datasets/gold_recovery_test.csv')\n",
    "full_data = pd.read_csv('/datasets/gold_recovery_full.csv')\n",
    "\n",
    "# Display the first few rows\n",
    "print(train_data.shape)\n",
    "print(test_data.shape)\n",
    "print(full_data.shape)"
   ]
  },
  {
   "cell_type": "code",
   "execution_count": 3,
   "metadata": {},
   "outputs": [
    {
     "data": {
      "text/html": [
       "<div>\n",
       "<style scoped>\n",
       "    .dataframe tbody tr th:only-of-type {\n",
       "        vertical-align: middle;\n",
       "    }\n",
       "\n",
       "    .dataframe tbody tr th {\n",
       "        vertical-align: top;\n",
       "    }\n",
       "\n",
       "    .dataframe thead th {\n",
       "        text-align: right;\n",
       "    }\n",
       "</style>\n",
       "<table border=\"1\" class=\"dataframe\">\n",
       "  <thead>\n",
       "    <tr style=\"text-align: right;\">\n",
       "      <th></th>\n",
       "      <th>final.output.concentrate_ag</th>\n",
       "      <th>final.output.concentrate_pb</th>\n",
       "      <th>final.output.concentrate_sol</th>\n",
       "      <th>final.output.concentrate_au</th>\n",
       "      <th>final.output.recovery</th>\n",
       "      <th>final.output.tail_ag</th>\n",
       "      <th>final.output.tail_pb</th>\n",
       "      <th>final.output.tail_sol</th>\n",
       "      <th>final.output.tail_au</th>\n",
       "      <th>primary_cleaner.input.sulfate</th>\n",
       "      <th>...</th>\n",
       "      <th>secondary_cleaner.state.floatbank4_a_air</th>\n",
       "      <th>secondary_cleaner.state.floatbank4_a_level</th>\n",
       "      <th>secondary_cleaner.state.floatbank4_b_air</th>\n",
       "      <th>secondary_cleaner.state.floatbank4_b_level</th>\n",
       "      <th>secondary_cleaner.state.floatbank5_a_air</th>\n",
       "      <th>secondary_cleaner.state.floatbank5_a_level</th>\n",
       "      <th>secondary_cleaner.state.floatbank5_b_air</th>\n",
       "      <th>secondary_cleaner.state.floatbank5_b_level</th>\n",
       "      <th>secondary_cleaner.state.floatbank6_a_air</th>\n",
       "      <th>secondary_cleaner.state.floatbank6_a_level</th>\n",
       "    </tr>\n",
       "  </thead>\n",
       "  <tbody>\n",
       "    <tr>\n",
       "      <th>count</th>\n",
       "      <td>16788.000000</td>\n",
       "      <td>16788.000000</td>\n",
       "      <td>16490.000000</td>\n",
       "      <td>16789.000000</td>\n",
       "      <td>15339.000000</td>\n",
       "      <td>16794.000000</td>\n",
       "      <td>16677.000000</td>\n",
       "      <td>16715.000000</td>\n",
       "      <td>16794.000000</td>\n",
       "      <td>15553.000000</td>\n",
       "      <td>...</td>\n",
       "      <td>16731.000000</td>\n",
       "      <td>16747.000000</td>\n",
       "      <td>16768.000000</td>\n",
       "      <td>16767.000000</td>\n",
       "      <td>16775.000000</td>\n",
       "      <td>16775.000000</td>\n",
       "      <td>16775.000000</td>\n",
       "      <td>16776.000000</td>\n",
       "      <td>16757.000000</td>\n",
       "      <td>16775.000000</td>\n",
       "    </tr>\n",
       "    <tr>\n",
       "      <th>mean</th>\n",
       "      <td>4.716907</td>\n",
       "      <td>9.113559</td>\n",
       "      <td>8.301123</td>\n",
       "      <td>39.467217</td>\n",
       "      <td>67.213166</td>\n",
       "      <td>8.757048</td>\n",
       "      <td>2.360327</td>\n",
       "      <td>9.303932</td>\n",
       "      <td>2.687512</td>\n",
       "      <td>129.479789</td>\n",
       "      <td>...</td>\n",
       "      <td>19.101874</td>\n",
       "      <td>-494.164481</td>\n",
       "      <td>14.778164</td>\n",
       "      <td>-476.600082</td>\n",
       "      <td>15.779488</td>\n",
       "      <td>-500.230146</td>\n",
       "      <td>12.377241</td>\n",
       "      <td>-498.956257</td>\n",
       "      <td>18.429208</td>\n",
       "      <td>-521.801826</td>\n",
       "    </tr>\n",
       "    <tr>\n",
       "      <th>std</th>\n",
       "      <td>2.096718</td>\n",
       "      <td>3.389495</td>\n",
       "      <td>3.825760</td>\n",
       "      <td>13.917227</td>\n",
       "      <td>11.960446</td>\n",
       "      <td>3.634103</td>\n",
       "      <td>1.215576</td>\n",
       "      <td>4.263208</td>\n",
       "      <td>1.272757</td>\n",
       "      <td>45.386931</td>\n",
       "      <td>...</td>\n",
       "      <td>6.883163</td>\n",
       "      <td>84.803334</td>\n",
       "      <td>5.999149</td>\n",
       "      <td>89.381172</td>\n",
       "      <td>6.834703</td>\n",
       "      <td>76.983542</td>\n",
       "      <td>6.219989</td>\n",
       "      <td>82.146207</td>\n",
       "      <td>6.958294</td>\n",
       "      <td>77.170888</td>\n",
       "    </tr>\n",
       "    <tr>\n",
       "      <th>min</th>\n",
       "      <td>0.000000</td>\n",
       "      <td>0.000000</td>\n",
       "      <td>0.000000</td>\n",
       "      <td>0.000000</td>\n",
       "      <td>0.000000</td>\n",
       "      <td>0.000000</td>\n",
       "      <td>0.000000</td>\n",
       "      <td>0.000000</td>\n",
       "      <td>0.000000</td>\n",
       "      <td>0.000003</td>\n",
       "      <td>...</td>\n",
       "      <td>0.000000</td>\n",
       "      <td>-799.920713</td>\n",
       "      <td>0.000000</td>\n",
       "      <td>-800.021781</td>\n",
       "      <td>-0.423260</td>\n",
       "      <td>-799.741097</td>\n",
       "      <td>0.427084</td>\n",
       "      <td>-800.258209</td>\n",
       "      <td>0.024270</td>\n",
       "      <td>-810.473526</td>\n",
       "    </tr>\n",
       "    <tr>\n",
       "      <th>25%</th>\n",
       "      <td>3.971262</td>\n",
       "      <td>8.825748</td>\n",
       "      <td>6.939185</td>\n",
       "      <td>42.055722</td>\n",
       "      <td>62.625685</td>\n",
       "      <td>7.610544</td>\n",
       "      <td>1.641604</td>\n",
       "      <td>7.870275</td>\n",
       "      <td>2.172953</td>\n",
       "      <td>103.064021</td>\n",
       "      <td>...</td>\n",
       "      <td>14.508299</td>\n",
       "      <td>-500.837689</td>\n",
       "      <td>10.741388</td>\n",
       "      <td>-500.269182</td>\n",
       "      <td>10.977713</td>\n",
       "      <td>-500.530594</td>\n",
       "      <td>8.925586</td>\n",
       "      <td>-500.147603</td>\n",
       "      <td>13.977626</td>\n",
       "      <td>-501.080595</td>\n",
       "    </tr>\n",
       "    <tr>\n",
       "      <th>50%</th>\n",
       "      <td>4.869346</td>\n",
       "      <td>10.065316</td>\n",
       "      <td>8.557228</td>\n",
       "      <td>44.498874</td>\n",
       "      <td>67.644601</td>\n",
       "      <td>9.220393</td>\n",
       "      <td>2.453690</td>\n",
       "      <td>10.021968</td>\n",
       "      <td>2.781132</td>\n",
       "      <td>131.783108</td>\n",
       "      <td>...</td>\n",
       "      <td>19.986958</td>\n",
       "      <td>-499.778379</td>\n",
       "      <td>14.943933</td>\n",
       "      <td>-499.593286</td>\n",
       "      <td>15.998340</td>\n",
       "      <td>-499.784231</td>\n",
       "      <td>11.092839</td>\n",
       "      <td>-499.933330</td>\n",
       "      <td>18.034960</td>\n",
       "      <td>-500.109898</td>\n",
       "    </tr>\n",
       "    <tr>\n",
       "      <th>75%</th>\n",
       "      <td>5.821176</td>\n",
       "      <td>11.054809</td>\n",
       "      <td>10.289741</td>\n",
       "      <td>45.976222</td>\n",
       "      <td>72.824595</td>\n",
       "      <td>10.971110</td>\n",
       "      <td>3.192404</td>\n",
       "      <td>11.648573</td>\n",
       "      <td>3.416936</td>\n",
       "      <td>159.539839</td>\n",
       "      <td>...</td>\n",
       "      <td>24.983961</td>\n",
       "      <td>-494.648754</td>\n",
       "      <td>20.023751</td>\n",
       "      <td>-400.137948</td>\n",
       "      <td>20.000701</td>\n",
       "      <td>-496.531781</td>\n",
       "      <td>15.979467</td>\n",
       "      <td>-498.418000</td>\n",
       "      <td>24.984992</td>\n",
       "      <td>-499.565540</td>\n",
       "    </tr>\n",
       "    <tr>\n",
       "      <th>max</th>\n",
       "      <td>16.001945</td>\n",
       "      <td>17.031899</td>\n",
       "      <td>18.124851</td>\n",
       "      <td>53.611374</td>\n",
       "      <td>100.000000</td>\n",
       "      <td>19.552149</td>\n",
       "      <td>6.086532</td>\n",
       "      <td>22.317730</td>\n",
       "      <td>9.789625</td>\n",
       "      <td>251.999948</td>\n",
       "      <td>...</td>\n",
       "      <td>60.000000</td>\n",
       "      <td>-127.692333</td>\n",
       "      <td>28.003828</td>\n",
       "      <td>-71.472472</td>\n",
       "      <td>63.116298</td>\n",
       "      <td>-275.073125</td>\n",
       "      <td>39.846228</td>\n",
       "      <td>-120.190931</td>\n",
       "      <td>54.876806</td>\n",
       "      <td>-39.784927</td>\n",
       "    </tr>\n",
       "  </tbody>\n",
       "</table>\n",
       "<p>8 rows × 86 columns</p>\n",
       "</div>"
      ],
      "text/plain": [
       "       final.output.concentrate_ag  final.output.concentrate_pb  \\\n",
       "count                 16788.000000                 16788.000000   \n",
       "mean                      4.716907                     9.113559   \n",
       "std                       2.096718                     3.389495   \n",
       "min                       0.000000                     0.000000   \n",
       "25%                       3.971262                     8.825748   \n",
       "50%                       4.869346                    10.065316   \n",
       "75%                       5.821176                    11.054809   \n",
       "max                      16.001945                    17.031899   \n",
       "\n",
       "       final.output.concentrate_sol  final.output.concentrate_au  \\\n",
       "count                  16490.000000                 16789.000000   \n",
       "mean                       8.301123                    39.467217   \n",
       "std                        3.825760                    13.917227   \n",
       "min                        0.000000                     0.000000   \n",
       "25%                        6.939185                    42.055722   \n",
       "50%                        8.557228                    44.498874   \n",
       "75%                       10.289741                    45.976222   \n",
       "max                       18.124851                    53.611374   \n",
       "\n",
       "       final.output.recovery  final.output.tail_ag  final.output.tail_pb  \\\n",
       "count           15339.000000          16794.000000          16677.000000   \n",
       "mean               67.213166              8.757048              2.360327   \n",
       "std                11.960446              3.634103              1.215576   \n",
       "min                 0.000000              0.000000              0.000000   \n",
       "25%                62.625685              7.610544              1.641604   \n",
       "50%                67.644601              9.220393              2.453690   \n",
       "75%                72.824595             10.971110              3.192404   \n",
       "max               100.000000             19.552149              6.086532   \n",
       "\n",
       "       final.output.tail_sol  final.output.tail_au  \\\n",
       "count           16715.000000          16794.000000   \n",
       "mean                9.303932              2.687512   \n",
       "std                 4.263208              1.272757   \n",
       "min                 0.000000              0.000000   \n",
       "25%                 7.870275              2.172953   \n",
       "50%                10.021968              2.781132   \n",
       "75%                11.648573              3.416936   \n",
       "max                22.317730              9.789625   \n",
       "\n",
       "       primary_cleaner.input.sulfate  ...  \\\n",
       "count                   15553.000000  ...   \n",
       "mean                      129.479789  ...   \n",
       "std                        45.386931  ...   \n",
       "min                         0.000003  ...   \n",
       "25%                       103.064021  ...   \n",
       "50%                       131.783108  ...   \n",
       "75%                       159.539839  ...   \n",
       "max                       251.999948  ...   \n",
       "\n",
       "       secondary_cleaner.state.floatbank4_a_air  \\\n",
       "count                              16731.000000   \n",
       "mean                                  19.101874   \n",
       "std                                    6.883163   \n",
       "min                                    0.000000   \n",
       "25%                                   14.508299   \n",
       "50%                                   19.986958   \n",
       "75%                                   24.983961   \n",
       "max                                   60.000000   \n",
       "\n",
       "       secondary_cleaner.state.floatbank4_a_level  \\\n",
       "count                                16747.000000   \n",
       "mean                                  -494.164481   \n",
       "std                                     84.803334   \n",
       "min                                   -799.920713   \n",
       "25%                                   -500.837689   \n",
       "50%                                   -499.778379   \n",
       "75%                                   -494.648754   \n",
       "max                                   -127.692333   \n",
       "\n",
       "       secondary_cleaner.state.floatbank4_b_air  \\\n",
       "count                              16768.000000   \n",
       "mean                                  14.778164   \n",
       "std                                    5.999149   \n",
       "min                                    0.000000   \n",
       "25%                                   10.741388   \n",
       "50%                                   14.943933   \n",
       "75%                                   20.023751   \n",
       "max                                   28.003828   \n",
       "\n",
       "       secondary_cleaner.state.floatbank4_b_level  \\\n",
       "count                                16767.000000   \n",
       "mean                                  -476.600082   \n",
       "std                                     89.381172   \n",
       "min                                   -800.021781   \n",
       "25%                                   -500.269182   \n",
       "50%                                   -499.593286   \n",
       "75%                                   -400.137948   \n",
       "max                                    -71.472472   \n",
       "\n",
       "       secondary_cleaner.state.floatbank5_a_air  \\\n",
       "count                              16775.000000   \n",
       "mean                                  15.779488   \n",
       "std                                    6.834703   \n",
       "min                                   -0.423260   \n",
       "25%                                   10.977713   \n",
       "50%                                   15.998340   \n",
       "75%                                   20.000701   \n",
       "max                                   63.116298   \n",
       "\n",
       "       secondary_cleaner.state.floatbank5_a_level  \\\n",
       "count                                16775.000000   \n",
       "mean                                  -500.230146   \n",
       "std                                     76.983542   \n",
       "min                                   -799.741097   \n",
       "25%                                   -500.530594   \n",
       "50%                                   -499.784231   \n",
       "75%                                   -496.531781   \n",
       "max                                   -275.073125   \n",
       "\n",
       "       secondary_cleaner.state.floatbank5_b_air  \\\n",
       "count                              16775.000000   \n",
       "mean                                  12.377241   \n",
       "std                                    6.219989   \n",
       "min                                    0.427084   \n",
       "25%                                    8.925586   \n",
       "50%                                   11.092839   \n",
       "75%                                   15.979467   \n",
       "max                                   39.846228   \n",
       "\n",
       "       secondary_cleaner.state.floatbank5_b_level  \\\n",
       "count                                16776.000000   \n",
       "mean                                  -498.956257   \n",
       "std                                     82.146207   \n",
       "min                                   -800.258209   \n",
       "25%                                   -500.147603   \n",
       "50%                                   -499.933330   \n",
       "75%                                   -498.418000   \n",
       "max                                   -120.190931   \n",
       "\n",
       "       secondary_cleaner.state.floatbank6_a_air  \\\n",
       "count                              16757.000000   \n",
       "mean                                  18.429208   \n",
       "std                                    6.958294   \n",
       "min                                    0.024270   \n",
       "25%                                   13.977626   \n",
       "50%                                   18.034960   \n",
       "75%                                   24.984992   \n",
       "max                                   54.876806   \n",
       "\n",
       "       secondary_cleaner.state.floatbank6_a_level  \n",
       "count                                16775.000000  \n",
       "mean                                  -521.801826  \n",
       "std                                     77.170888  \n",
       "min                                   -810.473526  \n",
       "25%                                   -501.080595  \n",
       "50%                                   -500.109898  \n",
       "75%                                   -499.565540  \n",
       "max                                    -39.784927  \n",
       "\n",
       "[8 rows x 86 columns]"
      ]
     },
     "execution_count": 3,
     "metadata": {},
     "output_type": "execute_result"
    }
   ],
   "source": [
    "train_data.describe()"
   ]
  },
  {
   "cell_type": "code",
   "execution_count": 4,
   "metadata": {},
   "outputs": [
    {
     "data": {
      "text/html": [
       "<div>\n",
       "<style scoped>\n",
       "    .dataframe tbody tr th:only-of-type {\n",
       "        vertical-align: middle;\n",
       "    }\n",
       "\n",
       "    .dataframe tbody tr th {\n",
       "        vertical-align: top;\n",
       "    }\n",
       "\n",
       "    .dataframe thead th {\n",
       "        text-align: right;\n",
       "    }\n",
       "</style>\n",
       "<table border=\"1\" class=\"dataframe\">\n",
       "  <thead>\n",
       "    <tr style=\"text-align: right;\">\n",
       "      <th></th>\n",
       "      <th>primary_cleaner.input.sulfate</th>\n",
       "      <th>primary_cleaner.input.depressant</th>\n",
       "      <th>primary_cleaner.input.feed_size</th>\n",
       "      <th>primary_cleaner.input.xanthate</th>\n",
       "      <th>primary_cleaner.state.floatbank8_a_air</th>\n",
       "      <th>primary_cleaner.state.floatbank8_a_level</th>\n",
       "      <th>primary_cleaner.state.floatbank8_b_air</th>\n",
       "      <th>primary_cleaner.state.floatbank8_b_level</th>\n",
       "      <th>primary_cleaner.state.floatbank8_c_air</th>\n",
       "      <th>primary_cleaner.state.floatbank8_c_level</th>\n",
       "      <th>...</th>\n",
       "      <th>secondary_cleaner.state.floatbank4_a_air</th>\n",
       "      <th>secondary_cleaner.state.floatbank4_a_level</th>\n",
       "      <th>secondary_cleaner.state.floatbank4_b_air</th>\n",
       "      <th>secondary_cleaner.state.floatbank4_b_level</th>\n",
       "      <th>secondary_cleaner.state.floatbank5_a_air</th>\n",
       "      <th>secondary_cleaner.state.floatbank5_a_level</th>\n",
       "      <th>secondary_cleaner.state.floatbank5_b_air</th>\n",
       "      <th>secondary_cleaner.state.floatbank5_b_level</th>\n",
       "      <th>secondary_cleaner.state.floatbank6_a_air</th>\n",
       "      <th>secondary_cleaner.state.floatbank6_a_level</th>\n",
       "    </tr>\n",
       "  </thead>\n",
       "  <tbody>\n",
       "    <tr>\n",
       "      <th>count</th>\n",
       "      <td>5554.000000</td>\n",
       "      <td>5572.000000</td>\n",
       "      <td>5856.000000</td>\n",
       "      <td>5690.000000</td>\n",
       "      <td>5840.000000</td>\n",
       "      <td>5840.000000</td>\n",
       "      <td>5840.000000</td>\n",
       "      <td>5840.000000</td>\n",
       "      <td>5840.000000</td>\n",
       "      <td>5840.000000</td>\n",
       "      <td>...</td>\n",
       "      <td>5840.000000</td>\n",
       "      <td>5840.000000</td>\n",
       "      <td>5840.000000</td>\n",
       "      <td>5840.000000</td>\n",
       "      <td>5840.000000</td>\n",
       "      <td>5840.000000</td>\n",
       "      <td>5840.000000</td>\n",
       "      <td>5840.000000</td>\n",
       "      <td>5840.000000</td>\n",
       "      <td>5840.000000</td>\n",
       "    </tr>\n",
       "    <tr>\n",
       "      <th>mean</th>\n",
       "      <td>170.515243</td>\n",
       "      <td>8.482873</td>\n",
       "      <td>7.264651</td>\n",
       "      <td>1.321420</td>\n",
       "      <td>1481.990241</td>\n",
       "      <td>-509.057796</td>\n",
       "      <td>1486.908670</td>\n",
       "      <td>-511.743956</td>\n",
       "      <td>1468.495216</td>\n",
       "      <td>-509.741212</td>\n",
       "      <td>...</td>\n",
       "      <td>15.636031</td>\n",
       "      <td>-516.266074</td>\n",
       "      <td>13.145702</td>\n",
       "      <td>-476.338907</td>\n",
       "      <td>12.308967</td>\n",
       "      <td>-512.208126</td>\n",
       "      <td>9.470986</td>\n",
       "      <td>-505.017827</td>\n",
       "      <td>16.678722</td>\n",
       "      <td>-512.351694</td>\n",
       "    </tr>\n",
       "    <tr>\n",
       "      <th>std</th>\n",
       "      <td>49.608602</td>\n",
       "      <td>3.353105</td>\n",
       "      <td>0.611526</td>\n",
       "      <td>0.693246</td>\n",
       "      <td>310.453166</td>\n",
       "      <td>61.339256</td>\n",
       "      <td>313.224286</td>\n",
       "      <td>67.139074</td>\n",
       "      <td>309.980748</td>\n",
       "      <td>62.671873</td>\n",
       "      <td>...</td>\n",
       "      <td>4.660835</td>\n",
       "      <td>62.756748</td>\n",
       "      <td>4.304086</td>\n",
       "      <td>105.549424</td>\n",
       "      <td>3.762827</td>\n",
       "      <td>58.864651</td>\n",
       "      <td>3.312471</td>\n",
       "      <td>68.785898</td>\n",
       "      <td>5.404514</td>\n",
       "      <td>69.919839</td>\n",
       "    </tr>\n",
       "    <tr>\n",
       "      <th>min</th>\n",
       "      <td>0.000103</td>\n",
       "      <td>0.000031</td>\n",
       "      <td>5.650000</td>\n",
       "      <td>0.000003</td>\n",
       "      <td>0.000000</td>\n",
       "      <td>-799.773788</td>\n",
       "      <td>0.000000</td>\n",
       "      <td>-800.029078</td>\n",
       "      <td>0.000000</td>\n",
       "      <td>-799.995127</td>\n",
       "      <td>...</td>\n",
       "      <td>0.000000</td>\n",
       "      <td>-799.798523</td>\n",
       "      <td>0.000000</td>\n",
       "      <td>-800.836914</td>\n",
       "      <td>-0.223393</td>\n",
       "      <td>-799.661076</td>\n",
       "      <td>0.528083</td>\n",
       "      <td>-800.220337</td>\n",
       "      <td>-0.079426</td>\n",
       "      <td>-809.859706</td>\n",
       "    </tr>\n",
       "    <tr>\n",
       "      <th>25%</th>\n",
       "      <td>143.340022</td>\n",
       "      <td>6.411500</td>\n",
       "      <td>6.885625</td>\n",
       "      <td>0.888769</td>\n",
       "      <td>1497.190681</td>\n",
       "      <td>-500.455211</td>\n",
       "      <td>1497.150234</td>\n",
       "      <td>-500.936639</td>\n",
       "      <td>1437.050321</td>\n",
       "      <td>-501.300441</td>\n",
       "      <td>...</td>\n",
       "      <td>12.057838</td>\n",
       "      <td>-501.054741</td>\n",
       "      <td>11.880119</td>\n",
       "      <td>-500.419113</td>\n",
       "      <td>10.123459</td>\n",
       "      <td>-500.879383</td>\n",
       "      <td>7.991208</td>\n",
       "      <td>-500.223089</td>\n",
       "      <td>13.012422</td>\n",
       "      <td>-500.833821</td>\n",
       "    </tr>\n",
       "    <tr>\n",
       "      <th>50%</th>\n",
       "      <td>176.103893</td>\n",
       "      <td>8.023252</td>\n",
       "      <td>7.259333</td>\n",
       "      <td>1.183362</td>\n",
       "      <td>1554.659783</td>\n",
       "      <td>-499.997402</td>\n",
       "      <td>1553.268084</td>\n",
       "      <td>-500.066588</td>\n",
       "      <td>1546.160672</td>\n",
       "      <td>-500.079537</td>\n",
       "      <td>...</td>\n",
       "      <td>17.001867</td>\n",
       "      <td>-500.160145</td>\n",
       "      <td>14.952102</td>\n",
       "      <td>-499.644328</td>\n",
       "      <td>12.062877</td>\n",
       "      <td>-500.047621</td>\n",
       "      <td>9.980774</td>\n",
       "      <td>-500.001338</td>\n",
       "      <td>16.007242</td>\n",
       "      <td>-500.041085</td>\n",
       "    </tr>\n",
       "    <tr>\n",
       "      <th>75%</th>\n",
       "      <td>207.240761</td>\n",
       "      <td>10.017725</td>\n",
       "      <td>7.650000</td>\n",
       "      <td>1.763797</td>\n",
       "      <td>1601.681656</td>\n",
       "      <td>-499.575313</td>\n",
       "      <td>1601.784707</td>\n",
       "      <td>-499.323361</td>\n",
       "      <td>1600.785573</td>\n",
       "      <td>-499.009545</td>\n",
       "      <td>...</td>\n",
       "      <td>18.030985</td>\n",
       "      <td>-499.441529</td>\n",
       "      <td>15.940011</td>\n",
       "      <td>-401.523664</td>\n",
       "      <td>15.017881</td>\n",
       "      <td>-499.297033</td>\n",
       "      <td>11.992176</td>\n",
       "      <td>-499.722835</td>\n",
       "      <td>21.009076</td>\n",
       "      <td>-499.395621</td>\n",
       "    </tr>\n",
       "    <tr>\n",
       "      <th>max</th>\n",
       "      <td>274.409626</td>\n",
       "      <td>40.024582</td>\n",
       "      <td>15.500000</td>\n",
       "      <td>5.433169</td>\n",
       "      <td>2212.432090</td>\n",
       "      <td>-57.195404</td>\n",
       "      <td>1975.147923</td>\n",
       "      <td>-142.527229</td>\n",
       "      <td>1715.053773</td>\n",
       "      <td>-150.937035</td>\n",
       "      <td>...</td>\n",
       "      <td>30.051797</td>\n",
       "      <td>-401.565212</td>\n",
       "      <td>31.269706</td>\n",
       "      <td>-6.506986</td>\n",
       "      <td>25.258848</td>\n",
       "      <td>-244.483566</td>\n",
       "      <td>14.090194</td>\n",
       "      <td>-126.463446</td>\n",
       "      <td>26.705889</td>\n",
       "      <td>-29.093593</td>\n",
       "    </tr>\n",
       "  </tbody>\n",
       "</table>\n",
       "<p>8 rows × 52 columns</p>\n",
       "</div>"
      ],
      "text/plain": [
       "       primary_cleaner.input.sulfate  primary_cleaner.input.depressant  \\\n",
       "count                    5554.000000                       5572.000000   \n",
       "mean                      170.515243                          8.482873   \n",
       "std                        49.608602                          3.353105   \n",
       "min                         0.000103                          0.000031   \n",
       "25%                       143.340022                          6.411500   \n",
       "50%                       176.103893                          8.023252   \n",
       "75%                       207.240761                         10.017725   \n",
       "max                       274.409626                         40.024582   \n",
       "\n",
       "       primary_cleaner.input.feed_size  primary_cleaner.input.xanthate  \\\n",
       "count                      5856.000000                     5690.000000   \n",
       "mean                          7.264651                        1.321420   \n",
       "std                           0.611526                        0.693246   \n",
       "min                           5.650000                        0.000003   \n",
       "25%                           6.885625                        0.888769   \n",
       "50%                           7.259333                        1.183362   \n",
       "75%                           7.650000                        1.763797   \n",
       "max                          15.500000                        5.433169   \n",
       "\n",
       "       primary_cleaner.state.floatbank8_a_air  \\\n",
       "count                             5840.000000   \n",
       "mean                              1481.990241   \n",
       "std                                310.453166   \n",
       "min                                  0.000000   \n",
       "25%                               1497.190681   \n",
       "50%                               1554.659783   \n",
       "75%                               1601.681656   \n",
       "max                               2212.432090   \n",
       "\n",
       "       primary_cleaner.state.floatbank8_a_level  \\\n",
       "count                               5840.000000   \n",
       "mean                                -509.057796   \n",
       "std                                   61.339256   \n",
       "min                                 -799.773788   \n",
       "25%                                 -500.455211   \n",
       "50%                                 -499.997402   \n",
       "75%                                 -499.575313   \n",
       "max                                  -57.195404   \n",
       "\n",
       "       primary_cleaner.state.floatbank8_b_air  \\\n",
       "count                             5840.000000   \n",
       "mean                              1486.908670   \n",
       "std                                313.224286   \n",
       "min                                  0.000000   \n",
       "25%                               1497.150234   \n",
       "50%                               1553.268084   \n",
       "75%                               1601.784707   \n",
       "max                               1975.147923   \n",
       "\n",
       "       primary_cleaner.state.floatbank8_b_level  \\\n",
       "count                               5840.000000   \n",
       "mean                                -511.743956   \n",
       "std                                   67.139074   \n",
       "min                                 -800.029078   \n",
       "25%                                 -500.936639   \n",
       "50%                                 -500.066588   \n",
       "75%                                 -499.323361   \n",
       "max                                 -142.527229   \n",
       "\n",
       "       primary_cleaner.state.floatbank8_c_air  \\\n",
       "count                             5840.000000   \n",
       "mean                              1468.495216   \n",
       "std                                309.980748   \n",
       "min                                  0.000000   \n",
       "25%                               1437.050321   \n",
       "50%                               1546.160672   \n",
       "75%                               1600.785573   \n",
       "max                               1715.053773   \n",
       "\n",
       "       primary_cleaner.state.floatbank8_c_level  ...  \\\n",
       "count                               5840.000000  ...   \n",
       "mean                                -509.741212  ...   \n",
       "std                                   62.671873  ...   \n",
       "min                                 -799.995127  ...   \n",
       "25%                                 -501.300441  ...   \n",
       "50%                                 -500.079537  ...   \n",
       "75%                                 -499.009545  ...   \n",
       "max                                 -150.937035  ...   \n",
       "\n",
       "       secondary_cleaner.state.floatbank4_a_air  \\\n",
       "count                               5840.000000   \n",
       "mean                                  15.636031   \n",
       "std                                    4.660835   \n",
       "min                                    0.000000   \n",
       "25%                                   12.057838   \n",
       "50%                                   17.001867   \n",
       "75%                                   18.030985   \n",
       "max                                   30.051797   \n",
       "\n",
       "       secondary_cleaner.state.floatbank4_a_level  \\\n",
       "count                                 5840.000000   \n",
       "mean                                  -516.266074   \n",
       "std                                     62.756748   \n",
       "min                                   -799.798523   \n",
       "25%                                   -501.054741   \n",
       "50%                                   -500.160145   \n",
       "75%                                   -499.441529   \n",
       "max                                   -401.565212   \n",
       "\n",
       "       secondary_cleaner.state.floatbank4_b_air  \\\n",
       "count                               5840.000000   \n",
       "mean                                  13.145702   \n",
       "std                                    4.304086   \n",
       "min                                    0.000000   \n",
       "25%                                   11.880119   \n",
       "50%                                   14.952102   \n",
       "75%                                   15.940011   \n",
       "max                                   31.269706   \n",
       "\n",
       "       secondary_cleaner.state.floatbank4_b_level  \\\n",
       "count                                 5840.000000   \n",
       "mean                                  -476.338907   \n",
       "std                                    105.549424   \n",
       "min                                   -800.836914   \n",
       "25%                                   -500.419113   \n",
       "50%                                   -499.644328   \n",
       "75%                                   -401.523664   \n",
       "max                                     -6.506986   \n",
       "\n",
       "       secondary_cleaner.state.floatbank5_a_air  \\\n",
       "count                               5840.000000   \n",
       "mean                                  12.308967   \n",
       "std                                    3.762827   \n",
       "min                                   -0.223393   \n",
       "25%                                   10.123459   \n",
       "50%                                   12.062877   \n",
       "75%                                   15.017881   \n",
       "max                                   25.258848   \n",
       "\n",
       "       secondary_cleaner.state.floatbank5_a_level  \\\n",
       "count                                 5840.000000   \n",
       "mean                                  -512.208126   \n",
       "std                                     58.864651   \n",
       "min                                   -799.661076   \n",
       "25%                                   -500.879383   \n",
       "50%                                   -500.047621   \n",
       "75%                                   -499.297033   \n",
       "max                                   -244.483566   \n",
       "\n",
       "       secondary_cleaner.state.floatbank5_b_air  \\\n",
       "count                               5840.000000   \n",
       "mean                                   9.470986   \n",
       "std                                    3.312471   \n",
       "min                                    0.528083   \n",
       "25%                                    7.991208   \n",
       "50%                                    9.980774   \n",
       "75%                                   11.992176   \n",
       "max                                   14.090194   \n",
       "\n",
       "       secondary_cleaner.state.floatbank5_b_level  \\\n",
       "count                                 5840.000000   \n",
       "mean                                  -505.017827   \n",
       "std                                     68.785898   \n",
       "min                                   -800.220337   \n",
       "25%                                   -500.223089   \n",
       "50%                                   -500.001338   \n",
       "75%                                   -499.722835   \n",
       "max                                   -126.463446   \n",
       "\n",
       "       secondary_cleaner.state.floatbank6_a_air  \\\n",
       "count                               5840.000000   \n",
       "mean                                  16.678722   \n",
       "std                                    5.404514   \n",
       "min                                   -0.079426   \n",
       "25%                                   13.012422   \n",
       "50%                                   16.007242   \n",
       "75%                                   21.009076   \n",
       "max                                   26.705889   \n",
       "\n",
       "       secondary_cleaner.state.floatbank6_a_level  \n",
       "count                                 5840.000000  \n",
       "mean                                  -512.351694  \n",
       "std                                     69.919839  \n",
       "min                                   -809.859706  \n",
       "25%                                   -500.833821  \n",
       "50%                                   -500.041085  \n",
       "75%                                   -499.395621  \n",
       "max                                    -29.093593  \n",
       "\n",
       "[8 rows x 52 columns]"
      ]
     },
     "execution_count": 4,
     "metadata": {},
     "output_type": "execute_result"
    }
   ],
   "source": [
    "test_data.describe()"
   ]
  },
  {
   "cell_type": "code",
   "execution_count": 5,
   "metadata": {},
   "outputs": [
    {
     "data": {
      "text/html": [
       "<div>\n",
       "<style scoped>\n",
       "    .dataframe tbody tr th:only-of-type {\n",
       "        vertical-align: middle;\n",
       "    }\n",
       "\n",
       "    .dataframe tbody tr th {\n",
       "        vertical-align: top;\n",
       "    }\n",
       "\n",
       "    .dataframe thead th {\n",
       "        text-align: right;\n",
       "    }\n",
       "</style>\n",
       "<table border=\"1\" class=\"dataframe\">\n",
       "  <thead>\n",
       "    <tr style=\"text-align: right;\">\n",
       "      <th></th>\n",
       "      <th>final.output.concentrate_ag</th>\n",
       "      <th>final.output.concentrate_pb</th>\n",
       "      <th>final.output.concentrate_sol</th>\n",
       "      <th>final.output.concentrate_au</th>\n",
       "      <th>final.output.recovery</th>\n",
       "      <th>final.output.tail_ag</th>\n",
       "      <th>final.output.tail_pb</th>\n",
       "      <th>final.output.tail_sol</th>\n",
       "      <th>final.output.tail_au</th>\n",
       "      <th>primary_cleaner.input.sulfate</th>\n",
       "      <th>...</th>\n",
       "      <th>secondary_cleaner.state.floatbank4_a_air</th>\n",
       "      <th>secondary_cleaner.state.floatbank4_a_level</th>\n",
       "      <th>secondary_cleaner.state.floatbank4_b_air</th>\n",
       "      <th>secondary_cleaner.state.floatbank4_b_level</th>\n",
       "      <th>secondary_cleaner.state.floatbank5_a_air</th>\n",
       "      <th>secondary_cleaner.state.floatbank5_a_level</th>\n",
       "      <th>secondary_cleaner.state.floatbank5_b_air</th>\n",
       "      <th>secondary_cleaner.state.floatbank5_b_level</th>\n",
       "      <th>secondary_cleaner.state.floatbank6_a_air</th>\n",
       "      <th>secondary_cleaner.state.floatbank6_a_level</th>\n",
       "    </tr>\n",
       "  </thead>\n",
       "  <tbody>\n",
       "    <tr>\n",
       "      <th>count</th>\n",
       "      <td>22627.000000</td>\n",
       "      <td>22629.000000</td>\n",
       "      <td>22331.000000</td>\n",
       "      <td>22630.000000</td>\n",
       "      <td>20753.000000</td>\n",
       "      <td>22633.000000</td>\n",
       "      <td>22516.000000</td>\n",
       "      <td>22445.000000</td>\n",
       "      <td>22635.000000</td>\n",
       "      <td>21107.000000</td>\n",
       "      <td>...</td>\n",
       "      <td>22571.000000</td>\n",
       "      <td>22587.000000</td>\n",
       "      <td>22608.000000</td>\n",
       "      <td>22607.000000</td>\n",
       "      <td>22615.000000</td>\n",
       "      <td>22615.000000</td>\n",
       "      <td>22615.000000</td>\n",
       "      <td>22616.000000</td>\n",
       "      <td>22597.000000</td>\n",
       "      <td>22615.000000</td>\n",
       "    </tr>\n",
       "    <tr>\n",
       "      <th>mean</th>\n",
       "      <td>4.781559</td>\n",
       "      <td>9.095308</td>\n",
       "      <td>8.640317</td>\n",
       "      <td>40.001172</td>\n",
       "      <td>67.447488</td>\n",
       "      <td>8.923690</td>\n",
       "      <td>2.488252</td>\n",
       "      <td>9.523632</td>\n",
       "      <td>2.827459</td>\n",
       "      <td>140.277672</td>\n",
       "      <td>...</td>\n",
       "      <td>18.205125</td>\n",
       "      <td>-499.878977</td>\n",
       "      <td>14.356474</td>\n",
       "      <td>-476.532613</td>\n",
       "      <td>14.883276</td>\n",
       "      <td>-503.323288</td>\n",
       "      <td>11.626743</td>\n",
       "      <td>-500.521502</td>\n",
       "      <td>17.976810</td>\n",
       "      <td>-519.361465</td>\n",
       "    </tr>\n",
       "    <tr>\n",
       "      <th>std</th>\n",
       "      <td>2.030128</td>\n",
       "      <td>3.230797</td>\n",
       "      <td>3.785035</td>\n",
       "      <td>13.398062</td>\n",
       "      <td>11.616034</td>\n",
       "      <td>3.517917</td>\n",
       "      <td>1.189407</td>\n",
       "      <td>4.079739</td>\n",
       "      <td>1.262834</td>\n",
       "      <td>49.919004</td>\n",
       "      <td>...</td>\n",
       "      <td>6.560700</td>\n",
       "      <td>80.273964</td>\n",
       "      <td>5.655791</td>\n",
       "      <td>93.822791</td>\n",
       "      <td>6.372811</td>\n",
       "      <td>72.925589</td>\n",
       "      <td>5.757449</td>\n",
       "      <td>78.956292</td>\n",
       "      <td>6.636203</td>\n",
       "      <td>75.477151</td>\n",
       "    </tr>\n",
       "    <tr>\n",
       "      <th>min</th>\n",
       "      <td>0.000000</td>\n",
       "      <td>0.000000</td>\n",
       "      <td>0.000000</td>\n",
       "      <td>0.000000</td>\n",
       "      <td>0.000000</td>\n",
       "      <td>0.000000</td>\n",
       "      <td>0.000000</td>\n",
       "      <td>0.000000</td>\n",
       "      <td>0.000000</td>\n",
       "      <td>0.000003</td>\n",
       "      <td>...</td>\n",
       "      <td>0.000000</td>\n",
       "      <td>-799.920713</td>\n",
       "      <td>0.000000</td>\n",
       "      <td>-800.836914</td>\n",
       "      <td>-0.423260</td>\n",
       "      <td>-799.741097</td>\n",
       "      <td>0.427084</td>\n",
       "      <td>-800.258209</td>\n",
       "      <td>-0.079426</td>\n",
       "      <td>-810.473526</td>\n",
       "    </tr>\n",
       "    <tr>\n",
       "      <th>25%</th>\n",
       "      <td>4.018525</td>\n",
       "      <td>8.750171</td>\n",
       "      <td>7.116799</td>\n",
       "      <td>42.383721</td>\n",
       "      <td>63.282393</td>\n",
       "      <td>7.684016</td>\n",
       "      <td>1.805376</td>\n",
       "      <td>8.143576</td>\n",
       "      <td>2.303108</td>\n",
       "      <td>110.177081</td>\n",
       "      <td>...</td>\n",
       "      <td>14.095940</td>\n",
       "      <td>-500.896232</td>\n",
       "      <td>10.882675</td>\n",
       "      <td>-500.309169</td>\n",
       "      <td>10.941299</td>\n",
       "      <td>-500.628697</td>\n",
       "      <td>8.037533</td>\n",
       "      <td>-500.167897</td>\n",
       "      <td>13.968418</td>\n",
       "      <td>-500.981671</td>\n",
       "    </tr>\n",
       "    <tr>\n",
       "      <th>50%</th>\n",
       "      <td>4.953729</td>\n",
       "      <td>9.914519</td>\n",
       "      <td>8.908792</td>\n",
       "      <td>44.653436</td>\n",
       "      <td>68.322258</td>\n",
       "      <td>9.484369</td>\n",
       "      <td>2.653001</td>\n",
       "      <td>10.212998</td>\n",
       "      <td>2.913794</td>\n",
       "      <td>141.330501</td>\n",
       "      <td>...</td>\n",
       "      <td>18.007326</td>\n",
       "      <td>-499.917108</td>\n",
       "      <td>14.947646</td>\n",
       "      <td>-499.612292</td>\n",
       "      <td>14.859117</td>\n",
       "      <td>-499.865158</td>\n",
       "      <td>10.989756</td>\n",
       "      <td>-499.951980</td>\n",
       "      <td>18.004215</td>\n",
       "      <td>-500.095463</td>\n",
       "    </tr>\n",
       "    <tr>\n",
       "      <th>75%</th>\n",
       "      <td>5.862593</td>\n",
       "      <td>10.929839</td>\n",
       "      <td>10.705824</td>\n",
       "      <td>46.111999</td>\n",
       "      <td>72.950836</td>\n",
       "      <td>11.084557</td>\n",
       "      <td>3.287790</td>\n",
       "      <td>11.860824</td>\n",
       "      <td>3.555077</td>\n",
       "      <td>174.049914</td>\n",
       "      <td>...</td>\n",
       "      <td>22.998194</td>\n",
       "      <td>-498.361545</td>\n",
       "      <td>17.977502</td>\n",
       "      <td>-400.224147</td>\n",
       "      <td>18.014914</td>\n",
       "      <td>-498.489381</td>\n",
       "      <td>14.001193</td>\n",
       "      <td>-499.492354</td>\n",
       "      <td>23.009704</td>\n",
       "      <td>-499.526388</td>\n",
       "    </tr>\n",
       "    <tr>\n",
       "      <th>max</th>\n",
       "      <td>16.001945</td>\n",
       "      <td>17.031899</td>\n",
       "      <td>19.615720</td>\n",
       "      <td>53.611374</td>\n",
       "      <td>100.000000</td>\n",
       "      <td>19.552149</td>\n",
       "      <td>6.086532</td>\n",
       "      <td>22.861749</td>\n",
       "      <td>9.789625</td>\n",
       "      <td>274.409626</td>\n",
       "      <td>...</td>\n",
       "      <td>60.000000</td>\n",
       "      <td>-127.692333</td>\n",
       "      <td>31.269706</td>\n",
       "      <td>-6.506986</td>\n",
       "      <td>63.116298</td>\n",
       "      <td>-244.483566</td>\n",
       "      <td>39.846228</td>\n",
       "      <td>-120.190931</td>\n",
       "      <td>54.876806</td>\n",
       "      <td>-29.093593</td>\n",
       "    </tr>\n",
       "  </tbody>\n",
       "</table>\n",
       "<p>8 rows × 86 columns</p>\n",
       "</div>"
      ],
      "text/plain": [
       "       final.output.concentrate_ag  final.output.concentrate_pb  \\\n",
       "count                 22627.000000                 22629.000000   \n",
       "mean                      4.781559                     9.095308   \n",
       "std                       2.030128                     3.230797   \n",
       "min                       0.000000                     0.000000   \n",
       "25%                       4.018525                     8.750171   \n",
       "50%                       4.953729                     9.914519   \n",
       "75%                       5.862593                    10.929839   \n",
       "max                      16.001945                    17.031899   \n",
       "\n",
       "       final.output.concentrate_sol  final.output.concentrate_au  \\\n",
       "count                  22331.000000                 22630.000000   \n",
       "mean                       8.640317                    40.001172   \n",
       "std                        3.785035                    13.398062   \n",
       "min                        0.000000                     0.000000   \n",
       "25%                        7.116799                    42.383721   \n",
       "50%                        8.908792                    44.653436   \n",
       "75%                       10.705824                    46.111999   \n",
       "max                       19.615720                    53.611374   \n",
       "\n",
       "       final.output.recovery  final.output.tail_ag  final.output.tail_pb  \\\n",
       "count           20753.000000          22633.000000          22516.000000   \n",
       "mean               67.447488              8.923690              2.488252   \n",
       "std                11.616034              3.517917              1.189407   \n",
       "min                 0.000000              0.000000              0.000000   \n",
       "25%                63.282393              7.684016              1.805376   \n",
       "50%                68.322258              9.484369              2.653001   \n",
       "75%                72.950836             11.084557              3.287790   \n",
       "max               100.000000             19.552149              6.086532   \n",
       "\n",
       "       final.output.tail_sol  final.output.tail_au  \\\n",
       "count           22445.000000          22635.000000   \n",
       "mean                9.523632              2.827459   \n",
       "std                 4.079739              1.262834   \n",
       "min                 0.000000              0.000000   \n",
       "25%                 8.143576              2.303108   \n",
       "50%                10.212998              2.913794   \n",
       "75%                11.860824              3.555077   \n",
       "max                22.861749              9.789625   \n",
       "\n",
       "       primary_cleaner.input.sulfate  ...  \\\n",
       "count                   21107.000000  ...   \n",
       "mean                      140.277672  ...   \n",
       "std                        49.919004  ...   \n",
       "min                         0.000003  ...   \n",
       "25%                       110.177081  ...   \n",
       "50%                       141.330501  ...   \n",
       "75%                       174.049914  ...   \n",
       "max                       274.409626  ...   \n",
       "\n",
       "       secondary_cleaner.state.floatbank4_a_air  \\\n",
       "count                              22571.000000   \n",
       "mean                                  18.205125   \n",
       "std                                    6.560700   \n",
       "min                                    0.000000   \n",
       "25%                                   14.095940   \n",
       "50%                                   18.007326   \n",
       "75%                                   22.998194   \n",
       "max                                   60.000000   \n",
       "\n",
       "       secondary_cleaner.state.floatbank4_a_level  \\\n",
       "count                                22587.000000   \n",
       "mean                                  -499.878977   \n",
       "std                                     80.273964   \n",
       "min                                   -799.920713   \n",
       "25%                                   -500.896232   \n",
       "50%                                   -499.917108   \n",
       "75%                                   -498.361545   \n",
       "max                                   -127.692333   \n",
       "\n",
       "       secondary_cleaner.state.floatbank4_b_air  \\\n",
       "count                              22608.000000   \n",
       "mean                                  14.356474   \n",
       "std                                    5.655791   \n",
       "min                                    0.000000   \n",
       "25%                                   10.882675   \n",
       "50%                                   14.947646   \n",
       "75%                                   17.977502   \n",
       "max                                   31.269706   \n",
       "\n",
       "       secondary_cleaner.state.floatbank4_b_level  \\\n",
       "count                                22607.000000   \n",
       "mean                                  -476.532613   \n",
       "std                                     93.822791   \n",
       "min                                   -800.836914   \n",
       "25%                                   -500.309169   \n",
       "50%                                   -499.612292   \n",
       "75%                                   -400.224147   \n",
       "max                                     -6.506986   \n",
       "\n",
       "       secondary_cleaner.state.floatbank5_a_air  \\\n",
       "count                              22615.000000   \n",
       "mean                                  14.883276   \n",
       "std                                    6.372811   \n",
       "min                                   -0.423260   \n",
       "25%                                   10.941299   \n",
       "50%                                   14.859117   \n",
       "75%                                   18.014914   \n",
       "max                                   63.116298   \n",
       "\n",
       "       secondary_cleaner.state.floatbank5_a_level  \\\n",
       "count                                22615.000000   \n",
       "mean                                  -503.323288   \n",
       "std                                     72.925589   \n",
       "min                                   -799.741097   \n",
       "25%                                   -500.628697   \n",
       "50%                                   -499.865158   \n",
       "75%                                   -498.489381   \n",
       "max                                   -244.483566   \n",
       "\n",
       "       secondary_cleaner.state.floatbank5_b_air  \\\n",
       "count                              22615.000000   \n",
       "mean                                  11.626743   \n",
       "std                                    5.757449   \n",
       "min                                    0.427084   \n",
       "25%                                    8.037533   \n",
       "50%                                   10.989756   \n",
       "75%                                   14.001193   \n",
       "max                                   39.846228   \n",
       "\n",
       "       secondary_cleaner.state.floatbank5_b_level  \\\n",
       "count                                22616.000000   \n",
       "mean                                  -500.521502   \n",
       "std                                     78.956292   \n",
       "min                                   -800.258209   \n",
       "25%                                   -500.167897   \n",
       "50%                                   -499.951980   \n",
       "75%                                   -499.492354   \n",
       "max                                   -120.190931   \n",
       "\n",
       "       secondary_cleaner.state.floatbank6_a_air  \\\n",
       "count                              22597.000000   \n",
       "mean                                  17.976810   \n",
       "std                                    6.636203   \n",
       "min                                   -0.079426   \n",
       "25%                                   13.968418   \n",
       "50%                                   18.004215   \n",
       "75%                                   23.009704   \n",
       "max                                   54.876806   \n",
       "\n",
       "       secondary_cleaner.state.floatbank6_a_level  \n",
       "count                                22615.000000  \n",
       "mean                                  -519.361465  \n",
       "std                                     75.477151  \n",
       "min                                   -810.473526  \n",
       "25%                                   -500.981671  \n",
       "50%                                   -500.095463  \n",
       "75%                                   -499.526388  \n",
       "max                                    -29.093593  \n",
       "\n",
       "[8 rows x 86 columns]"
      ]
     },
     "execution_count": 5,
     "metadata": {},
     "output_type": "execute_result"
    }
   ],
   "source": [
    "full_data.describe()"
   ]
  },
  {
   "cell_type": "markdown",
   "metadata": {},
   "source": [
    "### Checking Recovery Calculation\n",
    "\n",
    "This will help us calculate the following: $$ Recovery = \\frac{C * (F - T)}{F * (C - T)} * 100\\% $$\n",
    "\n",
    "where:\n",
    "* C — share of gold in the concentrate right after flotation (for finding the rougher concentrate recovery)/after purification (for finding the final concentrate recovery)\n",
    "* F — share of gold in the feed before flotation (for finding the rougher concentrate recovery)/in the concentrate right after flotation (for finding the final concentrate recovery)\n",
    "* T — share of gold in the rougher tails right after flotation (for finding the rougher concentrate recovery)/after purification (for finding the final concentrate recovery)"
   ]
  },
  {
   "cell_type": "code",
   "execution_count": 6,
   "metadata": {},
   "outputs": [
    {
     "name": "stdout",
     "output_type": "stream",
     "text": [
      "MAE between calculated and actual recovery: 9.303415616264301e-15\n"
     ]
    }
   ],
   "source": [
    "# Extract necessary columns for calculation\n",
    "rougher_output_concentrate_au = train_data['rougher.output.concentrate_au']\n",
    "rougher_input_feed_au = train_data['rougher.input.feed_au']\n",
    "rougher_output_tail_au = train_data['rougher.output.tail_au']\n",
    "rougher_output_recovery = train_data['rougher.output.recovery']\n",
    "\n",
    "# Calculate recovery\n",
    "calculated_recovery = (rougher_output_concentrate_au * (rougher_input_feed_au - rougher_output_tail_au)) / (\n",
    "    rougher_input_feed_au * (rougher_output_concentrate_au - rougher_output_tail_au)) * 100\n",
    "\n",
    "# Compare the calculated recovery with the actual values\n",
    "mae_recovery = (rougher_output_recovery - calculated_recovery).abs().mean()\n",
    "print(f\"MAE between calculated and actual recovery: {mae_recovery}\")\n"
   ]
  },
  {
   "cell_type": "markdown",
   "metadata": {},
   "source": [
    "#### Observation\n",
    "\n",
    "- The recovery formula is accurate, and the values in the dataset are consistent with what would be expected. There's no need for concern about inconsistencies in this aspect of the data. I can confidently move forward with the rest of the analysis, knowing that the recovery data is correct."
   ]
  },
  {
   "cell_type": "markdown",
   "metadata": {},
   "source": [
    "### Analyzing Missing Features in the Test Set\n"
   ]
  },
  {
   "cell_type": "code",
   "execution_count": 7,
   "metadata": {},
   "outputs": [
    {
     "name": "stdout",
     "output_type": "stream",
     "text": [
      "Missing in test set: {'final.output.tail_pb', 'rougher.output.tail_sol', 'rougher.calculation.au_pb_ratio', 'final.output.tail_ag', 'primary_cleaner.output.tail_ag', 'rougher.output.tail_au', 'rougher.output.concentrate_ag', 'rougher.output.concentrate_pb', 'primary_cleaner.output.concentrate_sol', 'rougher.calculation.floatbank11_sulfate_to_au_feed', 'secondary_cleaner.output.tail_au', 'rougher.output.concentrate_sol', 'final.output.concentrate_ag', 'primary_cleaner.output.concentrate_au', 'final.output.concentrate_sol', 'final.output.recovery', 'primary_cleaner.output.tail_pb', 'rougher.output.tail_ag', 'rougher.calculation.floatbank10_sulfate_to_au_feed', 'primary_cleaner.output.tail_sol', 'secondary_cleaner.output.tail_pb', 'rougher.calculation.sulfate_to_au_concentrate', 'secondary_cleaner.output.tail_sol', 'primary_cleaner.output.concentrate_pb', 'final.output.tail_au', 'rougher.output.concentrate_au', 'primary_cleaner.output.tail_au', 'final.output.concentrate_au', 'secondary_cleaner.output.tail_ag', 'rougher.output.recovery', 'primary_cleaner.output.concentrate_ag', 'final.output.concentrate_pb', 'rougher.output.tail_pb', 'final.output.tail_sol'}\n",
      "final.output.tail_pb                                  float64\n",
      "rougher.output.tail_sol                               float64\n",
      "rougher.calculation.au_pb_ratio                       float64\n",
      "final.output.tail_ag                                  float64\n",
      "primary_cleaner.output.tail_ag                        float64\n",
      "rougher.output.tail_au                                float64\n",
      "rougher.output.concentrate_ag                         float64\n",
      "rougher.output.concentrate_pb                         float64\n",
      "primary_cleaner.output.concentrate_sol                float64\n",
      "rougher.calculation.floatbank11_sulfate_to_au_feed    float64\n",
      "secondary_cleaner.output.tail_au                      float64\n",
      "rougher.output.concentrate_sol                        float64\n",
      "final.output.concentrate_ag                           float64\n",
      "primary_cleaner.output.concentrate_au                 float64\n",
      "final.output.concentrate_sol                          float64\n",
      "final.output.recovery                                 float64\n",
      "primary_cleaner.output.tail_pb                        float64\n",
      "rougher.output.tail_ag                                float64\n",
      "rougher.calculation.floatbank10_sulfate_to_au_feed    float64\n",
      "primary_cleaner.output.tail_sol                       float64\n",
      "secondary_cleaner.output.tail_pb                      float64\n",
      "rougher.calculation.sulfate_to_au_concentrate         float64\n",
      "secondary_cleaner.output.tail_sol                     float64\n",
      "primary_cleaner.output.concentrate_pb                 float64\n",
      "final.output.tail_au                                  float64\n",
      "rougher.output.concentrate_au                         float64\n",
      "primary_cleaner.output.tail_au                        float64\n",
      "final.output.concentrate_au                           float64\n",
      "secondary_cleaner.output.tail_ag                      float64\n",
      "rougher.output.recovery                               float64\n",
      "primary_cleaner.output.concentrate_ag                 float64\n",
      "final.output.concentrate_pb                           float64\n",
      "rougher.output.tail_pb                                float64\n",
      "final.output.tail_sol                                 float64\n",
      "dtype: object\n"
     ]
    }
   ],
   "source": [
    "# Identify features in the training set that are not in the test set\n",
    "missing_in_test = set(train_data.columns) - set(test_data.columns)\n",
    "print(\"Missing in test set:\", missing_in_test)\n",
    "\n",
    "# Check data types of these missing features\n",
    "missing_features_info = train_data[list(missing_in_test)].dtypes\n",
    "print(missing_features_info)\n"
   ]
  },
  {
   "cell_type": "markdown",
   "metadata": {},
   "source": [
    "#### Observation\n",
    "\n",
    "- The analysis reveals that many features are missing in the test set, while they are present in the training set. All of these missing features are of type float64, meaning they represent continuous numerical data, such as concentrations, recovery rates, or tail outputs of different minerals at various stages of the gold recovery process."
   ]
  },
  {
   "cell_type": "markdown",
   "metadata": {},
   "source": [
    "### Data Preprocessing"
   ]
  },
  {
   "cell_type": "code",
   "execution_count": 8,
   "metadata": {},
   "outputs": [
    {
     "name": "stdout",
     "output_type": "stream",
     "text": [
      "Missing values in training set:\n",
      " final.output.concentrate_ag                     72\n",
      "final.output.concentrate_pb                     72\n",
      "final.output.concentrate_sol                   370\n",
      "final.output.concentrate_au                     71\n",
      "final.output.recovery                         1521\n",
      "                                              ... \n",
      "secondary_cleaner.state.floatbank5_a_level      85\n",
      "secondary_cleaner.state.floatbank5_b_air        85\n",
      "secondary_cleaner.state.floatbank5_b_level      84\n",
      "secondary_cleaner.state.floatbank6_a_air       103\n",
      "secondary_cleaner.state.floatbank6_a_level      85\n",
      "Length: 85, dtype: int64\n"
     ]
    }
   ],
   "source": [
    "# Define the target variables\n",
    "target_variables = ['rougher.output.recovery', 'final.output.recovery']\n",
    "\n",
    "# Check for missing values\n",
    "missing_values_train = train_data.isnull().sum()\n",
    "print(\"Missing values in training set:\\n\", missing_values_train[missing_values_train > 0])\n"
   ]
  },
  {
   "cell_type": "code",
   "execution_count": 9,
   "metadata": {},
   "outputs": [],
   "source": [
    "# Forward fill missing values\n",
    "train_data = train_data.ffill()\n",
    "test_data = test_data.ffill()\n",
    "full_data = full_data.ffill()\n",
    "\n",
    "# Select relevant columns from full_data\n",
    "full_data_merge = full_data[[\"date\", \"rougher.output.recovery\", \"final.output.recovery\", \n",
    "                              \"rougher.output.concentrate_au\", \"rougher.output.concentrate_ag\", \n",
    "                              \"rougher.output.concentrate_pb\", \"rougher.output.concentrate_sol\", \n",
    "                              \"final.output.concentrate_au\", \"final.output.concentrate_ag\", \n",
    "                              \"final.output.concentrate_pb\", \"final.output.concentrate_sol\"]]\n",
    "\n",
    "# Merge test_data with full_data_merge on 'date'\n",
    "test_data = test_data.merge(full_data_merge, on=\"date\", how=\"left\")\n",
    "\n",
    "# Drop unnecessary columns\n",
    "full_data_merge = full_data_merge.drop(['date', 'rougher.output.recovery', 'final.output.recovery'], axis=1)\n",
    "train_data = train_data.drop(\"date\", axis=1)\n",
    "test_data = test_data.drop(\"date\", axis=1)\n",
    "full_data = full_data.drop(\"date\", axis=1)"
   ]
  },
  {
   "cell_type": "code",
   "execution_count": 10,
   "metadata": {},
   "outputs": [],
   "source": [
    "# Assert no missing values in the subsets\n",
    "assert train_data.isnull().sum().sum() == 0\n",
    "assert test_data.isnull().sum().sum() == 0\n",
    "\n"
   ]
  },
  {
   "cell_type": "markdown",
   "metadata": {},
   "source": [
    "### Analyzing Concentration Trends"
   ]
  },
  {
   "cell_type": "code",
   "execution_count": 11,
   "metadata": {},
   "outputs": [
    {
     "name": "stdout",
     "output_type": "stream",
     "text": [
      "['rougher.output.concentrate_au', 'primary_cleaner.output.concentrate_au', 'final.output.concentrate_au', 'rougher.output.concentrate_ag', 'primary_cleaner.output.concentrate_ag', 'final.output.concentrate_ag', 'rougher.output.concentrate_pb', 'primary_cleaner.output.concentrate_pb', 'final.output.concentrate_pb']\n"
     ]
    }
   ],
   "source": [
    "# Define the metals of interest\n",
    "metals = ['au', 'ag', 'pb']\n",
    "\n",
    "# Function to sort metal concentration columns\n",
    "def sort_metal_concentration_columns(data_full):    \n",
    "    # Find all columns that contain metal concentrate information\n",
    "    metal_conc_cols = [col for col in data_full.columns if any(\".concentrate_\" + metal in col for metal in metals)]\n",
    "\n",
    "    # Define order of metals and stages\n",
    "    metal_order = {'au': 1, 'ag': 2, 'pb': 3}\n",
    "    stage_order = {'rougher': 1, 'primary_cleaner': 2, 'final': 3}\n",
    "\n",
    "    # Sort the columns based on metal and stage\n",
    "    sorted_metal_conc_cols = sorted(\n",
    "        metal_conc_cols,\n",
    "        key=lambda col: (\n",
    "            metal_order[col.split('_')[-1]],  # metal order\n",
    "            stage_order[col.split('.')[0]],    # stage order \n",
    "        )\n",
    "    )\n",
    "\n",
    "    return sorted_metal_conc_cols\n",
    "\n",
    "# Get sorted metal concentration columns\n",
    "metal_conc_cols = sort_metal_concentration_columns(full_data)\n",
    "\n",
    "# Print sorted columns\n",
    "print(metal_conc_cols)\n",
    "\n",
    "# Function to plot metal concentration\n",
    "def plot_metal_concentration(data, metal_conc_cols, metal):\n",
    "    # Narrow list of columns to the metal of interest\n",
    "    metal_conc_cols_filtered = [col for col in metal_conc_cols if metal in col]\n",
    "    \n",
    "    # Set the figure size\n",
    "    fig = plt.figure(figsize=(10, 6))  # Adjust the figure size as needed\n",
    "    \n",
    "    # Histogram plot with density of the metal concentration columns\n",
    "    for col in metal_conc_cols_filtered:\n",
    "        sns.histplot(data[col], kde=True, stat=\"density\", label=col, element='step')\n",
    "    \n",
    "    # Set the title and labels\n",
    "    plt.title(f'{metal.upper()} Concentration per Stage')\n",
    "    plt.legend(bbox_to_anchor=(1, 1), loc='upper left')  # Set the legend outside of the plot\n",
    "    \n",
    "    # Set x-axis limits and labels\n",
    "    plt.xlim(0, None)\n",
    "    plt.xlabel('Concentration')\n",
    "    plt.ylabel('Density')\n",
    "    \n",
    "    plt.grid(True)  # Add grid for better readability\n",
    "    plt.tight_layout()  # Adjust layout to make room for the legend\n",
    "    \n",
    "    return fig  # Return the figure object\n",
    "\n"
   ]
  },
  {
   "cell_type": "code",
   "execution_count": 12,
   "metadata": {},
   "outputs": [
    {
     "data": {
      "image/png": "[encoded data removed]",
      "text/plain": [
       "<Figure size 1000x600 with 1 Axes>"
      ]
     },
     "metadata": {},
     "output_type": "display_data"
    },
    {
     "data": {
      "image/png": "[encoded data removed]",
      "text/plain": [
       "<Figure size 1000x600 with 1 Axes>"
      ]
     },
     "metadata": {},
     "output_type": "display_data"
    },
    {
     "data": {
      "image/png": "[encoded data removed]",
      "text/plain": [
       "<Figure size 1000x600 with 1 Axes>"
      ]
     },
     "metadata": {},
     "output_type": "display_data"
    }
   ],
   "source": [
    "# Plot for each metal\n",
    "plot_metal_concentration(full_data, metal_conc_cols, 'au')\n",
    "plot_metal_concentration(full_data, metal_conc_cols, 'ag')\n",
    "plot_metal_concentration(full_data, metal_conc_cols, 'pb')\n",
    "\n",
    "plt.show()  # Show all plots at once"
   ]
  },
  {
   "cell_type": "markdown",
   "metadata": {},
   "source": [
    "#### Observations\n",
    "\n",
    "- The concentration of all metals increases as the material progresses through the stages, indicating effective enrichment.\n",
    "    \n",
    "- Gold (Au) has the most significant increase in concentration from the rougher to the final stage.\n",
    "    \n",
    "**Each stage seems to be progressively refining and concentrating the metals, particularly gold, effectively while maintaining clear distinctions between stages in terms of metal concentration.**"
   ]
  },
  {
   "cell_type": "markdown",
   "metadata": {},
   "source": [
    "### Compare Particle Size Distributions\n",
    "\n"
   ]
  },
  {
   "cell_type": "code",
   "execution_count": 13,
   "metadata": {},
   "outputs": [
    {
     "name": "stdout",
     "output_type": "stream",
     "text": [
      "['rougher.input.feed_size', 'primary_cleaner.input.feed_size']\n"
     ]
    },
    {
     "data": {
      "image/png": "[encoded data removed]",
      "text/plain": [
       "<Figure size 1200x600 with 2 Axes>"
      ]
     },
     "metadata": {},
     "output_type": "display_data"
    }
   ],
   "source": [
    "# Define the particle size columns\n",
    "particle_size_cols = [col for col in full_data.columns if 'feed_size' in col]\n",
    "\n",
    "# Reverse the order\n",
    "particle_size_cols = particle_size_cols[::-1]\n",
    "\n",
    "print(particle_size_cols)\n",
    "\n",
    "# Compare Particle Size Distributions\n",
    "def plot_particle_size_distribution(train_data, test_data, particle_size_cols):\n",
    "    # Create subplots\n",
    "    fig, axes = plt.subplots(nrows=1, ncols=len(particle_size_cols), figsize=(12, 6))\n",
    "\n",
    "    # Loop through each particle size column and its corresponding axis\n",
    "    for ax, col in zip(axes, particle_size_cols):\n",
    "        # Plotting histogram for training data\n",
    "        sns.histplot(train_data[col], kde=True, stat='density', label='Train Data', ax=ax, color='blue', alpha=0.6)\n",
    "\n",
    "        # Plotting histogram for test data\n",
    "        sns.histplot(test_data[col], kde=True, stat='density', label='Test Data', ax=ax, color='orange', alpha=0.6)\n",
    "\n",
    "        # Set titles and labels\n",
    "        ax.set_title(f'{col} Distribution')\n",
    "        ax.set_xlabel('Particle Size')\n",
    "        ax.set_ylabel('Density')\n",
    "        ax.legend()\n",
    "        ax.grid()\n",
    "\n",
    "    plt.tight_layout()  # Adjusts subplot parameters to give specified padding\n",
    "    plt.show()\n",
    "\n",
    "# Call the function with the correct columns\n",
    "plot_particle_size_distribution(train_data, test_data, particle_size_cols)\n"
   ]
  },
  {
   "cell_type": "markdown",
   "metadata": {},
   "source": [
    "#### Observation\n",
    "\n",
    "- Both plots show a high degree of overlap between the training and test data, which suggests that the feature distributions between the two datasets are relatively consistent.\n",
    "- In both cases, there is a long tail, but the bulk of the data is concentrated within a small range (0-100 for the rougher input feed size and 6-8 for the primary cleaner input feed size)."
   ]
  },
  {
   "cell_type": "markdown",
   "metadata": {},
   "source": [
    "### Analyze Total Concentrations\n"
   ]
  },
  {
   "cell_type": "code",
   "execution_count": 14,
   "metadata": {},
   "outputs": [
    {
     "data": {
      "image/png": "[encoded data removed]",
      "text/plain": [
       "<Figure size 1000x600 with 1 Axes>"
      ]
     },
     "metadata": {},
     "output_type": "display_data"
    }
   ],
   "source": [
    "# Define the concentration summing functions\n",
    "def raw_feed(df):\n",
    "    return df[\"rougher.input.feed_au\"] + df[\"rougher.input.feed_ag\"] + df[\"rougher.input.feed_pb\"] + df[\"rougher.input.feed_sol\"]\n",
    "\n",
    "def rougher_conc(df):\n",
    "    return df[\"rougher.output.concentrate_au\"] + df[\"rougher.output.concentrate_ag\"] + df[\"rougher.output.concentrate_pb\"] + df[\"rougher.output.concentrate_sol\"]\n",
    "\n",
    "def final_conc(df):\n",
    "    return df[\"final.output.concentrate_au\"] + df[\"final.output.concentrate_ag\"] + df[\"final.output.concentrate_pb\"] + df[\"final.output.concentrate_sol\"]\n",
    "\n",
    "# Updated plot function\n",
    "def plot_total_concentration(data_full):\n",
    "    # Calculate total concentration at each stage\n",
    "    data_full[\"rougher.input.feed\"] = raw_feed(data_full)\n",
    "    data_full[\"rougher.output.concentrate\"] = rougher_conc(data_full)\n",
    "    data_full[\"final.output.concentrate\"] = final_conc(data_full)\n",
    "    \n",
    "    # Create a DataFrame for plotting\n",
    "    total_conc = data_full[[\"rougher.input.feed\", \"rougher.output.concentrate\", \"final.output.concentrate\"]]\n",
    "    \n",
    "    # Plot the total concentration at each stage as overlapping histograms\n",
    "    plt.figure(figsize=(10, 6))\n",
    "    for column in total_conc.columns:\n",
    "        sns.histplot(total_conc[column], kde=False, label=column, alpha=0.6)\n",
    "    \n",
    "    # Customize the plot\n",
    "    plt.legend()\n",
    "    plt.title('Total Concentration at Stages')\n",
    "    plt.xlabel('Concentration %')\n",
    "    plt.ylabel('Amount')\n",
    "    plt.grid(True)\n",
    "    \n",
    "    # Display the plot\n",
    "    plt.show()\n",
    "\n",
    "# Call the function to plot total concentration\n",
    "plot_total_concentration(full_data)\n"
   ]
  },
  {
   "cell_type": "markdown",
   "metadata": {},
   "source": [
    "#### Observation\n",
    "\n",
    "- The graph show abnormal values near 0% concentration. \n",
    "    \n",
    "- Will remove the near-zero values and possibly everything under 20% from both train and test data."
   ]
  },
  {
   "cell_type": "code",
   "execution_count": 15,
   "metadata": {},
   "outputs": [],
   "source": [
    "# Check if the required columns exist in train_data and test_data; if not, add them with NaN values\n",
    "required_columns = [\n",
    "    \"rougher.output.concentrate_au\", \"rougher.output.concentrate_ag\",\n",
    "    \"rougher.output.concentrate_pb\", \"rougher.output.concentrate_sol\",\n",
    "    \"final.output.concentrate_au\", \"final.output.concentrate_ag\", \n",
    "    \"final.output.concentrate_pb\", \"final.output.concentrate_sol\"\n",
    "]\n",
    "\n",
    "for col in required_columns:\n",
    "    if col not in train_data.columns:\n",
    "        train_data[col] = np.nan\n",
    "    if col not in test_data.columns:\n",
    "        test_data[col] = np.nan\n"
   ]
  },
  {
   "cell_type": "code",
   "execution_count": 16,
   "metadata": {},
   "outputs": [],
   "source": [
    "# Check if the required columns exist in train_data and test_data; if not, add them with NaN values\n",
    "required_columns = [\n",
    "    \"rougher.output.concentrate_au\", \"rougher.output.concentrate_ag\",\n",
    "    \"rougher.output.concentrate_pb\", \"rougher.output.concentrate_sol\",\n",
    "    \"final.output.concentrate_au\", \"final.output.concentrate_ag\", \n",
    "    \"final.output.concentrate_pb\", \"final.output.concentrate_sol\"\n",
    "]\n",
    "\n",
    "for col in required_columns:\n",
    "    if col not in train_data.columns:\n",
    "        train_data[col] = np.nan\n",
    "    if col not in test_data.columns:\n",
    "        test_data[col] = np.nan\n",
    "\n",
    "\n",
    "# Applying transformations and filtering to train_data\n",
    "train_data[\"rougher.input.feed\"] = raw_feed(train_data)\n",
    "train_data[\"rougher.output.concentrate\"] = rougher_conc(train_data)\n",
    "train_data[\"final.output.concentrate\"] = final_conc(train_data)\n",
    "\n",
    "# Filter rows based on concentration thresholds\n",
    "train_data = train_data[\n",
    "    (train_data[\"rougher.input.feed\"] > 20) &\n",
    "    (train_data[\"rougher.output.concentrate\"] > 20) &\n",
    "    (train_data[\"final.output.concentrate\"] > 20)\n",
    "]\n",
    "\n",
    "# Drop temporary columns\n",
    "train_data = train_data.drop([\"rougher.input.feed\", \"rougher.output.concentrate\", \"final.output.concentrate\"], axis=1)\n",
    "\n",
    "# Applying transformations and filtering to test_data\n",
    "test_data[\"rougher.input.feed\"] = raw_feed(test_data)\n",
    "test_data[\"rougher.output.concentrate\"] = rougher_conc(test_data)\n",
    "test_data[\"final.output.concentrate\"] = final_conc(test_data)\n",
    "\n",
    "# Filter rows based on concentration thresholds\n",
    "test_data = test_data[\n",
    "    (test_data[\"rougher.input.feed\"] > 20) &\n",
    "    (test_data[\"rougher.output.concentrate\"] > 20) &\n",
    "    (test_data[\"final.output.concentrate\"] > 20)\n",
    "]"
   ]
  },
  {
   "cell_type": "code",
   "execution_count": 18,
   "metadata": {},
   "outputs": [],
   "source": [
    "# Define your target columns\n",
    "target_cols = ['rougher.output.recovery', 'final.output.recovery']\n",
    "\n",
    "# Drop temporary columns only if they exist in test_data\n",
    "for col in [\"rougher.input.feed\", \"rougher.output.concentrate\", \"final.output.concentrate\"]:\n",
    "    if col in test_data.columns:\n",
    "        test_data = test_data.drop(col, axis=1)\n",
    "\n",
    "# Ensure test_data columns match those in train_data\n",
    "test_data = test_data.drop(list(full_data_merge.columns.values), axis=1, errors=\"ignore\")\n",
    "train_data = train_data.loc[:, list(test_data.columns)]\n",
    "\n",
    "# Set Global Random Seed\n",
    "state = np.random.RandomState(12345)\n",
    "\n",
    "# Combine train and test for consistent feature extraction\n",
    "full_data = pd.concat([train_data, test_data], ignore_index=True)\n",
    "\n",
    "# Shuffle both datasets so they are not in chronological order\n",
    "data_train = train_data.sample(frac=1, random_state=state).reset_index(drop=True)\n",
    "data_test = test_data.sample(frac=1, random_state=state).reset_index(drop=True)\n",
    "\n",
    "# Separate features and target variables for training\n",
    "X_train = data_train.drop(target_cols, axis=1)\n",
    "y_train_rougher = data_train['rougher.output.recovery']\n",
    "y_train_final = data_train['final.output.recovery']\n",
    "\n",
    "# Prepare the test data\n",
    "X_test = data_test.drop(target_cols, axis=1)\n",
    "y_test_rougher = data_test['rougher.output.recovery']\n",
    "y_test_final = data_test['final.output.recovery']\n",
    "\n",
    "# Ensure you use only features that are present in both train and test sets\n",
    "common_cols = list(set(X_train.columns) & set(X_test.columns))\n",
    "X_train = X_train[common_cols]\n",
    "X_test = X_test[common_cols]\n",
    "\n",
    "# Ensure only numeric columns are passed to the scaler\n",
    "X_train_numeric = X_train.select_dtypes(include=[np.number])  # Select only numeric columns\n",
    "X_test_numeric = X_test.select_dtypes(include=[np.number])  # Select only numeric columns\n",
    "\n",
    "# Scale the features\n",
    "feature_scaler = StandardScaler()\n",
    "X_train_scaled = feature_scaler.fit_transform(X_train_numeric)\n",
    "X_test_scaled = feature_scaler.transform(X_test_numeric)\n"
   ]
  },
  {
   "cell_type": "code",
   "execution_count": 19,
   "metadata": {},
   "outputs": [
    {
     "name": "stdout",
     "output_type": "stream",
     "text": [
      "(14409, 54)\n",
      "(5244, 54)\n"
     ]
    }
   ],
   "source": [
    "print(train_data.shape)\n",
    "print(test_data.shape)"
   ]
  },
  {
   "cell_type": "markdown",
   "metadata": {},
   "source": [
    "### Build the Model"
   ]
  },
  {
   "cell_type": "code",
   "execution_count": 20,
   "metadata": {},
   "outputs": [],
   "source": [
    "# Define a custom sMAPE scorer\n",
    "def smape(y_true, y_pred):\n",
    "    return 100 * (abs(y_true - y_pred) / ((abs(y_true) + abs(y_pred)) / 2)).mean()\n",
    "\n",
    "smape_scorer = make_scorer(smape, greater_is_better=False)\n",
    "\n",
    "# Define a function to train and evaluate models using sMAPE as the metric\n",
    "def train_and_evaluate(X, y, scoring=smape_scorer):\n",
    "    models = {\n",
    "        'Linear Regression': LinearRegression(),\n",
    "        'Decision Tree': DecisionTreeRegressor(),\n",
    "        'Random Forest': RandomForestRegressor(n_jobs=-1),\n",
    "    }\n",
    "    \n",
    "    results = {}\n",
    "    for model_name, model in models.items():\n",
    "        scores = cross_val_score(model, X, y, scoring=scoring, cv=5, n_jobs=-1)\n",
    "        results[model_name] = -scores.mean()  # Store sMAPE as positive\n",
    "    return results\n",
    "\n",
    "# Tune hyperparameters for Random Forest and return the best estimator and best parameters\n",
    "def tune_hyperparameters(X, y):\n",
    "    param_grid = {\n",
    "        'n_estimators': [100, 200, 300],\n",
    "        'max_depth': [10, 20, None],\n",
    "        'min_samples_split': [2, 5, 10],\n",
    "    }\n",
    "    rf = RandomForestRegressor(n_jobs=-1)\n",
    "    grid_search = GridSearchCV(rf, param_grid, scoring=smape_scorer, cv=5, n_jobs=-1)\n",
    "    grid_search.fit(X, y)\n",
    "    return grid_search.best_estimator_, grid_search.best_params_\n"
   ]
  },
  {
   "cell_type": "code",
   "execution_count": 42,
   "metadata": {},
   "outputs": [
    {
     "name": "stdout",
     "output_type": "stream",
     "text": [
      "Model Performance for Rougher Output Recovery (sMAPE) - Scaled Data:\n",
      "Linear Regression: 5.2291\n",
      "Decision Tree: 4.1931\n",
      "Random Forest: 3.1000\n"
     ]
    }
   ],
   "source": [
    "# Train and evaluate models for rougher output recovery using scaled data\n",
    "rougher_results_filtered = train_and_evaluate(X_train_scaled, y_train_rougher, scoring=smape_scorer)\n",
    "print(\"Model Performance for Rougher Output Recovery (sMAPE) - Scaled Data:\")\n",
    "for model, score in rougher_results_filtered.items():\n",
    "    print(f\"{model}: {score:.4f}\")"
   ]
  },
  {
   "cell_type": "code",
   "execution_count": 43,
   "metadata": {},
   "outputs": [
    {
     "name": "stdout",
     "output_type": "stream",
     "text": [
      "\n",
      "Model Performance for Final Output Recovery (sMAPE) - Scaled Data:\n",
      "Linear Regression: 8.4633\n",
      "Decision Tree: 8.4703\n",
      "Random Forest: 5.8650\n"
     ]
    }
   ],
   "source": [
    "# Train and evaluate models for final output recovery using scaled data\n",
    "final_results_filtered = train_and_evaluate(X_train_scaled, y_train_final, scoring=smape_scorer)\n",
    "print(\"\\nModel Performance for Final Output Recovery (sMAPE) - Scaled Data:\")\n",
    "for model, score in final_results_filtered.items():\n",
    "    print(f\"{model}: {score:.4f}\")\n"
   ]
  },
  {
   "cell_type": "code",
   "execution_count": 44,
   "metadata": {
    "scrolled": true
   },
   "outputs": [
    {
     "name": "stdout",
     "output_type": "stream",
     "text": [
      "\n",
      "Best Model for Rougher Output Recovery: Random Forest with sMAPE: 3.1000\n",
      "Best Model for Final Output Recovery: Random Forest with sMAPE: 5.8650\n"
     ]
    }
   ],
   "source": [
    "# Select the best models based on sMAPE\n",
    "best_rougher_model_name = min(rougher_results_filtered, key=rougher_results_filtered.get)\n",
    "best_final_model_name = min(final_results_filtered, key=final_results_filtered.get)\n",
    "\n",
    "print(f\"\\nBest Model for Rougher Output Recovery: {best_rougher_model_name} with sMAPE: {rougher_results_filtered[best_rougher_model_name]:.4f}\")\n",
    "print(f\"Best Model for Final Output Recovery: {best_final_model_name} with sMAPE: {final_results_filtered[best_final_model_name]:.4f}\")\n"
   ]
  },
  {
   "cell_type": "code",
   "execution_count": 24,
   "metadata": {},
   "outputs": [
    {
     "data": {
      "text/plain": [
       "'\\nTrain the best models\\nif best_rougher_model_name == \\'Random Forest\\':\\n    best_rougher_model, best_rougher_params = tune_hyperparameters(X_train, y_train_rougher)\\n    print(f\"Best hyperparameters for Rougher model: {best_rougher_params}\")\\nelse:\\n    best_rougher_model = RandomForestRegressor(n_jobs=-1).fit(X_train, y_train_rougher)\\n\\nif best_final_model_name == \\'Random Forest\\':\\n    best_final_model, best_final_params = tune_hyperparameters(X_train, y_train_final)\\n    print(f\"Best hyperparameters for Final model: {best_final_params}\")\\nelse:\\n    best_final_model = RandomForestRegressor(n_jobs=-1).fit(X_train, y_train_final)\\n'"
      ]
     },
     "execution_count": 24,
     "metadata": {},
     "output_type": "execute_result"
    }
   ],
   "source": [
    "\"\"\"\n",
    "Train the best models\n",
    "if best_rougher_model_name == 'Random Forest':\n",
    "    best_rougher_model, best_rougher_params = tune_hyperparameters(X_train, y_train_rougher)\n",
    "    print(f\"Best hyperparameters for Rougher model: {best_rougher_params}\")\n",
    "else:\n",
    "    best_rougher_model = RandomForestRegressor(n_jobs=-1).fit(X_train, y_train_rougher)\n",
    "\n",
    "if best_final_model_name == 'Random Forest':\n",
    "    best_final_model, best_final_params = tune_hyperparameters(X_train, y_train_final)\n",
    "    print(f\"Best hyperparameters for Final model: {best_final_params}\")\n",
    "else:\n",
    "    best_final_model = RandomForestRegressor(n_jobs=-1).fit(X_train, y_train_final)\n",
    "\"\"\"\n"
   ]
  },
  {
   "cell_type": "code",
   "execution_count": 48,
   "metadata": {},
   "outputs": [],
   "source": [
    "# Best hyperparameters from previous tuning since it takes over an hour to tune\n",
    "rougher_best_params = {\n",
    "    'n_estimators': 300,\n",
    "    'max_depth': None,\n",
    "    'min_samples_split': 2\n",
    "}\n",
    "\n",
    "final_best_params = {\n",
    "    'n_estimators': 300,\n",
    "    'max_depth': None,\n",
    "    'min_samples_split': 2\n",
    "}\n",
    "\n",
    "# Train the best models using the saved best hyperparameters\n",
    "if best_rougher_model_name == 'Random Forest':\n",
    "    best_rougher_model = RandomForestRegressor(\n",
    "        n_estimators=rougher_best_params['n_estimators'],\n",
    "        max_depth=rougher_best_params['max_depth'],\n",
    "        min_samples_split=rougher_best_params['min_samples_split'],\n",
    "        n_jobs=-1\n",
    "    ).fit(X_train_scaled, y_train_rougher)\n",
    "else:\n",
    "    best_rougher_model = RandomForestRegressor(n_jobs=-1).fit(X_train_scaled, y_train_rougher)\n",
    "\n",
    "if best_final_model_name == 'Random Forest':\n",
    "    best_final_model = RandomForestRegressor(\n",
    "        n_estimators=final_best_params['n_estimators'],\n",
    "        max_depth=final_best_params['max_depth'],\n",
    "        min_samples_split=final_best_params['min_samples_split'],\n",
    "        n_jobs=-1\n",
    "    ).fit(X_train_scaled, y_train_final)\n",
    "else:\n",
    "    best_final_model = RandomForestRegressor(n_jobs=-1).fit(X_train_scaled, y_train_final)\n"
   ]
  },
  {
   "cell_type": "code",
   "execution_count": 49,
   "metadata": {},
   "outputs": [
    {
     "name": "stdout",
     "output_type": "stream",
     "text": [
      "\n",
      "Final sMAPE: 7.9142\n"
     ]
    }
   ],
   "source": [
    "# Make predictions\n",
    "rougher_predictions = best_rougher_model.predict(X_test_scaled)\n",
    "final_predictions = best_final_model.predict(X_test_scaled)\n",
    "\n",
    "# Calculate the final sMAPE\n",
    "rougher_smape_value = smape(y_test_rougher, rougher_predictions)\n",
    "final_smape_value = smape(y_test_final, final_predictions)\n",
    "\n",
    "# Combine final sMAPE calculation\n",
    "final_smape = 0.25 * rougher_smape_value + 0.75 * final_smape_value\n",
    "print(f\"\\nFinal sMAPE: {final_smape:.4f}\")\n"
   ]
  },
  {
   "cell_type": "code",
   "execution_count": 50,
   "metadata": {},
   "outputs": [
    {
     "name": "stdout",
     "output_type": "stream",
     "text": [
      "Constant Model Final sMAPE: 7.9496\n"
     ]
    }
   ],
   "source": [
    "# Sanity check with a constant model\n",
    "dummy_model_rougher = DummyRegressor(strategy=\"mean\").fit(X_train_scaled, y_train_rougher)\n",
    "dummy_model_final = DummyRegressor(strategy=\"mean\").fit(X_train_scaled, y_train_final)\n",
    "\n",
    "dummy_rougher_predictions = dummy_model_rougher.predict(X_test_scaled)\n",
    "dummy_final_predictions = dummy_model_final.predict(X_test_scaled)\n",
    "\n",
    "dummy_rougher_smape = smape(y_test_rougher, dummy_rougher_predictions)\n",
    "dummy_final_smape = smape(y_test_final, dummy_final_predictions)\n",
    "\n",
    "dummy_final_smape_combined = 0.25 * dummy_rougher_smape + 0.75 * dummy_final_smape\n",
    "\n",
    "print(f\"Constant Model Final sMAPE: {dummy_final_smape_combined:.4f}\")\n",
    "assert final_smape < dummy_final_smape_combined, \"The model should perform better than the constant model.\"\n"
   ]
  },
  {
   "cell_type": "markdown",
   "metadata": {},
   "source": [
    "### Conclusion\n",
    "\n",
    "- The Final sMAPE for the Random Forest model is 7.9142%, indicating a slightly more accurate predictive capability compared to the constant model, which yielded a Final sMAPE of 7.9496%.\n",
    "\n",
    "- Although the difference in sMAPE between the models is small, the Random Forest model does show a minor improvement, suggesting it captures some underlying patterns in the data that a naive prediction does not.\n",
    "\n",
    "**In summary, the project has successfully built a predictive model for gold recovery rates, but with room for refinement. The current model provides a baseline for future enhancements and offers valuable insights for improving predictive accuracy in similar industrial processes.**"
   ]
  },
  {
   "cell_type": "code",
   "execution_count": null,
   "metadata": {},
   "outputs": [],
   "source": []
  }
 ],
 "metadata": {
  "ExecuteTimeLog": [
   {
    "duration": 2804,
    "start_time": "2024-10-24T00:26:35.438Z"
   },
   {
    "duration": 661,
    "start_time": "2024-10-24T00:27:27.520Z"
   },
   {
    "duration": 518,
    "start_time": "2024-10-24T00:32:53.291Z"
   },
   {
    "duration": 15,
    "start_time": "2024-10-24T00:32:59.540Z"
   },
   {
    "duration": 88,
    "start_time": "2024-10-24T00:33:18.075Z"
   },
   {
    "duration": 212,
    "start_time": "2024-10-24T00:34:48.026Z"
   },
   {
    "duration": 81,
    "start_time": "2024-10-24T00:34:58.113Z"
   },
   {
    "duration": 645,
    "start_time": "2024-10-24T00:37:40.952Z"
   },
   {
    "duration": 504,
    "start_time": "2024-10-24T00:37:48.554Z"
   },
   {
    "duration": 492,
    "start_time": "2024-10-24T00:38:12.045Z"
   },
   {
    "duration": 471,
    "start_time": "2024-10-24T00:38:25.710Z"
   },
   {
    "duration": 446,
    "start_time": "2024-10-24T00:38:33.797Z"
   },
   {
    "duration": 384,
    "start_time": "2024-10-24T00:39:07.610Z"
   },
   {
    "duration": 147,
    "start_time": "2024-10-24T00:39:21.142Z"
   },
   {
    "duration": 103,
    "start_time": "2024-10-24T00:39:22.098Z"
   },
   {
    "duration": 158,
    "start_time": "2024-10-24T00:39:26.266Z"
   },
   {
    "duration": 13,
    "start_time": "2024-10-24T00:41:45.946Z"
   },
   {
    "duration": 5,
    "start_time": "2024-10-24T00:45:34.043Z"
   },
   {
    "duration": 6,
    "start_time": "2024-10-24T00:54:15.309Z"
   },
   {
    "duration": 735,
    "start_time": "2024-10-24T00:55:35.279Z"
   },
   {
    "duration": 16,
    "start_time": "2024-10-24T00:56:59.218Z"
   },
   {
    "duration": 4,
    "start_time": "2024-10-24T00:58:22.825Z"
   },
   {
    "duration": 12,
    "start_time": "2024-10-24T01:00:13.689Z"
   },
   {
    "duration": 5,
    "start_time": "2024-10-24T01:08:58.493Z"
   },
   {
    "duration": 119,
    "start_time": "2024-10-24T01:09:08.600Z"
   },
   {
    "duration": 6,
    "start_time": "2024-10-24T01:10:43.416Z"
   },
   {
    "duration": 16,
    "start_time": "2024-10-24T01:11:08.618Z"
   },
   {
    "duration": 14,
    "start_time": "2024-10-24T01:11:14.647Z"
   },
   {
    "duration": 30,
    "start_time": "2024-10-24T01:11:38.862Z"
   },
   {
    "duration": 3,
    "start_time": "2024-10-24T01:11:56.366Z"
   },
   {
    "duration": 36,
    "start_time": "2024-10-24T01:11:57.234Z"
   },
   {
    "duration": 15,
    "start_time": "2024-10-24T01:12:00.832Z"
   },
   {
    "duration": 1015,
    "start_time": "2024-10-24T01:12:39.908Z"
   },
   {
    "duration": 518,
    "start_time": "2024-10-24T01:12:40.926Z"
   },
   {
    "duration": 164,
    "start_time": "2024-10-24T01:12:41.446Z"
   },
   {
    "duration": 87,
    "start_time": "2024-10-24T01:12:41.611Z"
   },
   {
    "duration": 170,
    "start_time": "2024-10-24T01:12:41.700Z"
   },
   {
    "duration": 6,
    "start_time": "2024-10-24T01:12:41.872Z"
   },
   {
    "duration": 6,
    "start_time": "2024-10-24T01:12:41.879Z"
   },
   {
    "duration": 7,
    "start_time": "2024-10-24T01:12:41.887Z"
   },
   {
    "duration": 7,
    "start_time": "2024-10-24T01:12:41.896Z"
   },
   {
    "duration": 43,
    "start_time": "2024-10-24T01:12:41.904Z"
   },
   {
    "duration": 14,
    "start_time": "2024-10-24T01:12:41.949Z"
   },
   {
    "duration": 248,
    "start_time": "2024-10-24T01:12:41.965Z"
   },
   {
    "duration": 0,
    "start_time": "2024-10-24T01:12:42.215Z"
   },
   {
    "duration": 5,
    "start_time": "2024-10-24T01:13:34.549Z"
   },
   {
    "duration": 19,
    "start_time": "2024-10-24T01:13:35.470Z"
   },
   {
    "duration": 14,
    "start_time": "2024-10-24T01:13:53.639Z"
   },
   {
    "duration": 89,
    "start_time": "2024-10-24T01:14:57.936Z"
   },
   {
    "duration": 147,
    "start_time": "2024-10-24T01:22:51.030Z"
   },
   {
    "duration": 318,
    "start_time": "2024-10-24T01:35:18.230Z"
   },
   {
    "duration": 232,
    "start_time": "2024-10-24T01:35:44.392Z"
   },
   {
    "duration": 21,
    "start_time": "2024-10-24T01:38:03.063Z"
   },
   {
    "duration": 483,
    "start_time": "2024-10-24T01:40:10.051Z"
   },
   {
    "duration": 45,
    "start_time": "2024-10-24T01:40:38.161Z"
   },
   {
    "duration": 991,
    "start_time": "2024-10-24T01:41:42.920Z"
   },
   {
    "duration": 515,
    "start_time": "2024-10-24T01:41:43.913Z"
   },
   {
    "duration": 162,
    "start_time": "2024-10-24T01:41:44.431Z"
   },
   {
    "duration": 90,
    "start_time": "2024-10-24T01:41:44.595Z"
   },
   {
    "duration": 168,
    "start_time": "2024-10-24T01:41:44.686Z"
   },
   {
    "duration": 7,
    "start_time": "2024-10-24T01:41:44.856Z"
   },
   {
    "duration": 5,
    "start_time": "2024-10-24T01:41:44.865Z"
   },
   {
    "duration": 7,
    "start_time": "2024-10-24T01:41:44.872Z"
   },
   {
    "duration": 9,
    "start_time": "2024-10-24T01:41:44.881Z"
   },
   {
    "duration": 46,
    "start_time": "2024-10-24T01:41:44.892Z"
   },
   {
    "duration": 347,
    "start_time": "2024-10-24T01:41:44.940Z"
   },
   {
    "duration": 0,
    "start_time": "2024-10-24T01:41:45.289Z"
   },
   {
    "duration": 420,
    "start_time": "2024-10-24T01:42:02.956Z"
   },
   {
    "duration": 18,
    "start_time": "2024-10-24T01:51:32.609Z"
   },
   {
    "duration": 53,
    "start_time": "2024-10-24T01:51:48.311Z"
   },
   {
    "duration": 280,
    "start_time": "2024-10-24T01:51:52.856Z"
   },
   {
    "duration": 1087,
    "start_time": "2024-10-24T01:52:41.844Z"
   },
   {
    "duration": 549,
    "start_time": "2024-10-24T01:52:42.933Z"
   },
   {
    "duration": 164,
    "start_time": "2024-10-24T01:52:43.484Z"
   },
   {
    "duration": 93,
    "start_time": "2024-10-24T01:52:43.650Z"
   },
   {
    "duration": 177,
    "start_time": "2024-10-24T01:52:43.746Z"
   },
   {
    "duration": 9,
    "start_time": "2024-10-24T01:52:43.926Z"
   },
   {
    "duration": 6,
    "start_time": "2024-10-24T01:52:43.937Z"
   },
   {
    "duration": 15,
    "start_time": "2024-10-24T01:52:43.944Z"
   },
   {
    "duration": 455,
    "start_time": "2024-10-24T01:52:43.961Z"
   },
   {
    "duration": 429,
    "start_time": "2024-10-24T01:53:01.045Z"
   },
   {
    "duration": 6,
    "start_time": "2024-10-24T01:55:47.263Z"
   },
   {
    "duration": 2577,
    "start_time": "2024-10-24T01:56:01.551Z"
   },
   {
    "duration": 57,
    "start_time": "2024-10-24T01:58:42.024Z"
   },
   {
    "duration": 16,
    "start_time": "2024-10-24T01:59:46.846Z"
   },
   {
    "duration": 6,
    "start_time": "2024-10-24T01:59:51.322Z"
   },
   {
    "duration": 11,
    "start_time": "2024-10-24T01:59:58.748Z"
   },
   {
    "duration": 3,
    "start_time": "2024-10-24T02:00:13.023Z"
   },
   {
    "duration": 16,
    "start_time": "2024-10-24T02:03:53.102Z"
   },
   {
    "duration": 4,
    "start_time": "2024-10-24T02:05:10.396Z"
   },
   {
    "duration": 3,
    "start_time": "2024-10-24T02:14:05.620Z"
   },
   {
    "duration": 1864,
    "start_time": "2024-10-24T02:16:43.043Z"
   },
   {
    "duration": 2245,
    "start_time": "2024-10-24T02:19:25.631Z"
   },
   {
    "duration": 170,
    "start_time": "2024-10-24T02:20:40.469Z"
   },
   {
    "duration": 1557,
    "start_time": "2024-10-24T02:23:06.919Z"
   },
   {
    "duration": 1454,
    "start_time": "2024-10-24T02:26:07.837Z"
   },
   {
    "duration": 508,
    "start_time": "2024-10-24T02:31:18.425Z"
   },
   {
    "duration": 7,
    "start_time": "2024-10-24T02:32:40.787Z"
   },
   {
    "duration": 0,
    "start_time": "2024-10-24T02:32:40.796Z"
   },
   {
    "duration": 0,
    "start_time": "2024-10-24T02:32:40.797Z"
   },
   {
    "duration": 0,
    "start_time": "2024-10-24T02:32:40.799Z"
   },
   {
    "duration": 1,
    "start_time": "2024-10-24T02:32:40.799Z"
   },
   {
    "duration": 0,
    "start_time": "2024-10-24T02:32:40.801Z"
   },
   {
    "duration": 0,
    "start_time": "2024-10-24T02:32:40.802Z"
   },
   {
    "duration": 162,
    "start_time": "2024-10-24T02:32:40.804Z"
   },
   {
    "duration": 0,
    "start_time": "2024-10-24T02:32:40.968Z"
   },
   {
    "duration": 0,
    "start_time": "2024-10-24T02:32:40.969Z"
   },
   {
    "duration": 0,
    "start_time": "2024-10-24T02:32:40.970Z"
   },
   {
    "duration": 0,
    "start_time": "2024-10-24T02:32:40.971Z"
   },
   {
    "duration": 0,
    "start_time": "2024-10-24T02:32:40.972Z"
   },
   {
    "duration": 12,
    "start_time": "2024-10-24T02:33:22.981Z"
   },
   {
    "duration": 1007,
    "start_time": "2024-10-24T02:33:39.197Z"
   },
   {
    "duration": 511,
    "start_time": "2024-10-24T02:33:40.205Z"
   },
   {
    "duration": 165,
    "start_time": "2024-10-24T02:33:40.718Z"
   },
   {
    "duration": 96,
    "start_time": "2024-10-24T02:33:40.885Z"
   },
   {
    "duration": 170,
    "start_time": "2024-10-24T02:33:40.985Z"
   },
   {
    "duration": 6,
    "start_time": "2024-10-24T02:33:41.157Z"
   },
   {
    "duration": 6,
    "start_time": "2024-10-24T02:33:41.165Z"
   },
   {
    "duration": 20,
    "start_time": "2024-10-24T02:33:41.173Z"
   },
   {
    "duration": 6,
    "start_time": "2024-10-24T02:33:41.195Z"
   },
   {
    "duration": 2441,
    "start_time": "2024-10-24T02:33:41.203Z"
   },
   {
    "duration": 2084,
    "start_time": "2024-10-24T02:33:43.646Z"
   },
   {
    "duration": 1419,
    "start_time": "2024-10-24T02:33:45.732Z"
   },
   {
    "duration": 242,
    "start_time": "2024-10-24T02:33:47.154Z"
   },
   {
    "duration": 730,
    "start_time": "2024-10-24T02:40:01.744Z"
   },
   {
    "duration": 57,
    "start_time": "2024-10-24T02:40:33.549Z"
   },
   {
    "duration": 16,
    "start_time": "2024-10-24T02:40:53.219Z"
   },
   {
    "duration": 40,
    "start_time": "2024-10-24T02:40:57.035Z"
   },
   {
    "duration": 3,
    "start_time": "2024-10-24T02:41:43.665Z"
   },
   {
    "duration": 19,
    "start_time": "2024-10-24T02:42:44.322Z"
   },
   {
    "duration": 3,
    "start_time": "2024-10-24T02:43:46.440Z"
   },
   {
    "duration": 25,
    "start_time": "2024-10-24T02:44:22.436Z"
   },
   {
    "duration": 6,
    "start_time": "2024-10-24T02:55:09.316Z"
   },
   {
    "duration": 8,
    "start_time": "2024-10-24T02:55:39.068Z"
   },
   {
    "duration": 14,
    "start_time": "2024-10-24T02:55:48.874Z"
   },
   {
    "duration": 23,
    "start_time": "2024-10-24T02:57:17.079Z"
   },
   {
    "duration": 643,
    "start_time": "2024-10-24T02:57:24.925Z"
   },
   {
    "duration": 10,
    "start_time": "2024-10-24T02:58:58.394Z"
   },
   {
    "duration": 15,
    "start_time": "2024-10-24T02:59:27.147Z"
   },
   {
    "duration": 372,
    "start_time": "2024-10-24T02:59:35.647Z"
   },
   {
    "duration": 18,
    "start_time": "2024-10-24T03:01:01.073Z"
   },
   {
    "duration": 369,
    "start_time": "2024-10-24T03:01:15.110Z"
   },
   {
    "duration": 16,
    "start_time": "2024-10-24T03:05:11.452Z"
   },
   {
    "duration": 25,
    "start_time": "2024-10-24T03:13:33.444Z"
   },
   {
    "duration": 29,
    "start_time": "2024-10-24T03:13:34.291Z"
   },
   {
    "duration": 8,
    "start_time": "2024-10-24T03:13:34.968Z"
   },
   {
    "duration": 369,
    "start_time": "2024-10-24T03:13:59.394Z"
   },
   {
    "duration": 810,
    "start_time": "2024-10-24T03:15:08.264Z"
   },
   {
    "duration": 389,
    "start_time": "2024-10-24T03:15:42.778Z"
   },
   {
    "duration": 4,
    "start_time": "2024-10-24T03:16:00.955Z"
   },
   {
    "duration": 515,
    "start_time": "2024-10-24T03:16:01.666Z"
   },
   {
    "duration": 162,
    "start_time": "2024-10-24T03:16:02.183Z"
   },
   {
    "duration": 95,
    "start_time": "2024-10-24T03:16:02.347Z"
   },
   {
    "duration": 190,
    "start_time": "2024-10-24T03:16:02.444Z"
   },
   {
    "duration": 6,
    "start_time": "2024-10-24T03:16:02.637Z"
   },
   {
    "duration": 6,
    "start_time": "2024-10-24T03:16:03.290Z"
   },
   {
    "duration": 7,
    "start_time": "2024-10-24T03:16:03.768Z"
   },
   {
    "duration": 28,
    "start_time": "2024-10-24T03:16:03.931Z"
   },
   {
    "duration": 29,
    "start_time": "2024-10-24T03:16:04.115Z"
   },
   {
    "duration": 8,
    "start_time": "2024-10-24T03:16:04.286Z"
   },
   {
    "duration": 11,
    "start_time": "2024-10-24T03:16:04.685Z"
   },
   {
    "duration": 2474,
    "start_time": "2024-10-24T03:16:04.848Z"
   },
   {
    "duration": 2102,
    "start_time": "2024-10-24T03:16:07.330Z"
   },
   {
    "duration": 1849,
    "start_time": "2024-10-24T03:16:09.434Z"
   },
   {
    "duration": 552,
    "start_time": "2024-10-24T03:16:11.286Z"
   },
   {
    "duration": 376,
    "start_time": "2024-10-24T03:19:13.502Z"
   },
   {
    "duration": 38,
    "start_time": "2024-10-24T03:29:27.177Z"
   },
   {
    "duration": 3,
    "start_time": "2024-10-24T03:29:27.233Z"
   },
   {
    "duration": 3,
    "start_time": "2024-10-24T04:18:08.842Z"
   },
   {
    "duration": 3,
    "start_time": "2024-10-24T04:21:07.939Z"
   },
   {
    "duration": 588194,
    "start_time": "2024-10-24T04:21:08.588Z"
   },
   {
    "duration": 278621,
    "start_time": "2024-10-24T04:31:13.873Z"
   },
   {
    "duration": 4,
    "start_time": "2024-10-24T04:53:25.792Z"
   },
   {
    "duration": 4,
    "start_time": "2024-10-24T04:54:14.313Z"
   },
   {
    "duration": 278764,
    "start_time": "2024-10-24T04:59:32.791Z"
   },
   {
    "duration": 6,
    "start_time": "2024-10-24T05:04:36.008Z"
   },
   {
    "duration": 6,
    "start_time": "2024-10-24T05:05:03.799Z"
   },
   {
    "duration": 5,
    "start_time": "2024-10-24T05:05:20.277Z"
   },
   {
    "duration": 7,
    "start_time": "2024-10-24T05:05:34.569Z"
   },
   {
    "duration": 20,
    "start_time": "2024-10-24T05:05:52.351Z"
   },
   {
    "duration": 4,
    "start_time": "2024-10-24T05:06:24.818Z"
   },
   {
    "duration": 19,
    "start_time": "2024-10-24T05:06:31.091Z"
   },
   {
    "duration": 8,
    "start_time": "2024-10-24T05:08:43.158Z"
   },
   {
    "duration": 2,
    "start_time": "2024-10-24T05:08:44.390Z"
   },
   {
    "duration": 3,
    "start_time": "2024-10-24T05:22:21.876Z"
   },
   {
    "duration": 3,
    "start_time": "2024-10-24T05:22:40.812Z"
   },
   {
    "duration": 4,
    "start_time": "2024-10-24T05:22:58.457Z"
   },
   {
    "duration": 4,
    "start_time": "2024-10-24T05:23:25.975Z"
   },
   {
    "duration": 4,
    "start_time": "2024-10-24T05:23:38.201Z"
   },
   {
    "duration": 5,
    "start_time": "2024-10-24T05:23:44.309Z"
   },
   {
    "duration": 162,
    "start_time": "2024-10-24T17:11:21.984Z"
   },
   {
    "duration": 2688,
    "start_time": "2024-10-24T17:11:32.910Z"
   },
   {
    "duration": 633,
    "start_time": "2024-10-24T17:11:35.600Z"
   },
   {
    "duration": 210,
    "start_time": "2024-10-24T17:11:36.235Z"
   },
   {
    "duration": 101,
    "start_time": "2024-10-24T17:11:36.446Z"
   },
   {
    "duration": 173,
    "start_time": "2024-10-24T17:11:36.550Z"
   },
   {
    "duration": 6,
    "start_time": "2024-10-24T17:11:36.725Z"
   },
   {
    "duration": 5,
    "start_time": "2024-10-24T17:11:36.733Z"
   },
   {
    "duration": 7,
    "start_time": "2024-10-24T17:11:36.740Z"
   },
   {
    "duration": 40,
    "start_time": "2024-10-24T17:11:36.749Z"
   },
   {
    "duration": 38,
    "start_time": "2024-10-24T17:11:36.791Z"
   },
   {
    "duration": 8,
    "start_time": "2024-10-24T17:11:36.831Z"
   },
   {
    "duration": 6,
    "start_time": "2024-10-24T17:11:36.841Z"
   },
   {
    "duration": 2358,
    "start_time": "2024-10-24T17:11:36.849Z"
   },
   {
    "duration": 1968,
    "start_time": "2024-10-24T17:11:39.210Z"
   },
   {
    "duration": 1627,
    "start_time": "2024-10-24T17:11:41.180Z"
   },
   {
    "duration": 1000,
    "start_time": "2024-10-24T17:12:24.541Z"
   },
   {
    "duration": 483,
    "start_time": "2024-10-24T17:12:25.543Z"
   },
   {
    "duration": 163,
    "start_time": "2024-10-24T17:12:26.027Z"
   },
   {
    "duration": 89,
    "start_time": "2024-10-24T17:12:26.192Z"
   },
   {
    "duration": 172,
    "start_time": "2024-10-24T17:12:26.283Z"
   },
   {
    "duration": 6,
    "start_time": "2024-10-24T17:12:26.457Z"
   },
   {
    "duration": 5,
    "start_time": "2024-10-24T17:12:26.464Z"
   },
   {
    "duration": 7,
    "start_time": "2024-10-24T17:12:26.470Z"
   },
   {
    "duration": 49,
    "start_time": "2024-10-24T17:12:26.478Z"
   },
   {
    "duration": 27,
    "start_time": "2024-10-24T17:12:26.529Z"
   },
   {
    "duration": 7,
    "start_time": "2024-10-24T17:12:26.557Z"
   },
   {
    "duration": 7,
    "start_time": "2024-10-24T17:12:26.565Z"
   },
   {
    "duration": 2354,
    "start_time": "2024-10-24T17:12:26.573Z"
   },
   {
    "duration": 1949,
    "start_time": "2024-10-24T17:12:28.930Z"
   },
   {
    "duration": 1600,
    "start_time": "2024-10-24T17:12:30.881Z"
   },
   {
    "duration": 275685,
    "start_time": "2024-10-24T17:12:32.482Z"
   },
   {
    "duration": 241,
    "start_time": "2024-10-24T17:17:08.168Z"
   },
   {
    "duration": 0,
    "start_time": "2024-10-24T17:17:08.410Z"
   },
   {
    "duration": 0,
    "start_time": "2024-10-24T17:17:08.411Z"
   },
   {
    "duration": 0,
    "start_time": "2024-10-24T17:17:08.413Z"
   },
   {
    "duration": 0,
    "start_time": "2024-10-24T17:17:08.413Z"
   },
   {
    "duration": 0,
    "start_time": "2024-10-24T17:17:08.414Z"
   },
   {
    "duration": 0,
    "start_time": "2024-10-24T17:17:08.415Z"
   },
   {
    "duration": 0,
    "start_time": "2024-10-24T17:17:08.416Z"
   },
   {
    "duration": 306375,
    "start_time": "2024-10-24T17:29:29.954Z"
   },
   {
    "duration": 4,
    "start_time": "2024-10-24T17:36:20.469Z"
   },
   {
    "duration": 148982,
    "start_time": "2024-10-24T17:36:22.860Z"
   },
   {
    "duration": 8,
    "start_time": "2024-10-24T18:17:56.140Z"
   },
   {
    "duration": 255,
    "start_time": "2024-10-24T18:17:57.505Z"
   },
   {
    "duration": 3223,
    "start_time": "2024-10-24T18:18:36.962Z"
   },
   {
    "duration": 776,
    "start_time": "2024-10-24T18:18:40.188Z"
   },
   {
    "duration": 191,
    "start_time": "2024-10-24T18:18:40.965Z"
   },
   {
    "duration": 100,
    "start_time": "2024-10-24T18:18:41.158Z"
   },
   {
    "duration": 266,
    "start_time": "2024-10-24T18:18:41.261Z"
   },
   {
    "duration": 10,
    "start_time": "2024-10-24T18:18:41.529Z"
   },
   {
    "duration": 15,
    "start_time": "2024-10-24T18:18:41.540Z"
   },
   {
    "duration": 7,
    "start_time": "2024-10-24T18:18:41.556Z"
   },
   {
    "duration": 25,
    "start_time": "2024-10-24T18:18:41.565Z"
   },
   {
    "duration": 63,
    "start_time": "2024-10-24T18:18:41.592Z"
   },
   {
    "duration": 6,
    "start_time": "2024-10-24T18:18:41.657Z"
   },
   {
    "duration": 6,
    "start_time": "2024-10-24T18:18:41.665Z"
   },
   {
    "duration": 2658,
    "start_time": "2024-10-24T18:18:41.673Z"
   },
   {
    "duration": 2235,
    "start_time": "2024-10-24T18:18:44.334Z"
   },
   {
    "duration": 1824,
    "start_time": "2024-10-24T18:18:46.571Z"
   },
   {
    "duration": 306662,
    "start_time": "2024-10-24T18:18:48.397Z"
   },
   {
    "duration": 340389,
    "start_time": "2024-10-24T18:23:55.063Z"
   },
   {
    "duration": 3,
    "start_time": "2024-10-24T18:29:35.456Z"
   },
   {
    "duration": 167579,
    "start_time": "2024-10-24T18:29:35.460Z"
   },
   {
    "duration": 3,
    "start_time": "2024-10-24T18:32:23.040Z"
   },
   {
    "duration": 230,
    "start_time": "2024-10-24T18:32:23.045Z"
   },
   {
    "duration": 18,
    "start_time": "2024-10-24T18:32:23.277Z"
   },
   {
    "duration": 1012,
    "start_time": "2024-10-24T19:07:28.264Z"
   },
   {
    "duration": 486,
    "start_time": "2024-10-24T19:07:29.278Z"
   },
   {
    "duration": 159,
    "start_time": "2024-10-24T19:07:29.766Z"
   },
   {
    "duration": 97,
    "start_time": "2024-10-24T19:07:29.927Z"
   },
   {
    "duration": 170,
    "start_time": "2024-10-24T19:07:30.026Z"
   },
   {
    "duration": 6,
    "start_time": "2024-10-24T19:07:30.197Z"
   },
   {
    "duration": 19,
    "start_time": "2024-10-24T19:07:30.205Z"
   },
   {
    "duration": 8,
    "start_time": "2024-10-24T19:07:30.226Z"
   },
   {
    "duration": 25,
    "start_time": "2024-10-24T19:07:30.235Z"
   },
   {
    "duration": 27,
    "start_time": "2024-10-24T19:07:30.263Z"
   },
   {
    "duration": 32,
    "start_time": "2024-10-24T19:07:30.292Z"
   },
   {
    "duration": 6,
    "start_time": "2024-10-24T19:07:30.326Z"
   },
   {
    "duration": 2575,
    "start_time": "2024-10-24T19:07:30.334Z"
   },
   {
    "duration": 2026,
    "start_time": "2024-10-24T19:07:32.910Z"
   },
   {
    "duration": 1663,
    "start_time": "2024-10-24T19:07:34.939Z"
   },
   {
    "duration": 279154,
    "start_time": "2024-10-24T19:07:36.604Z"
   },
   {
    "duration": 309825,
    "start_time": "2024-10-24T19:12:15.760Z"
   },
   {
    "duration": 4,
    "start_time": "2024-10-24T19:17:25.587Z"
   },
   {
    "duration": 150543,
    "start_time": "2024-10-24T19:17:25.592Z"
   },
   {
    "duration": 3,
    "start_time": "2024-10-24T19:19:56.137Z"
   },
   {
    "duration": 218,
    "start_time": "2024-10-24T19:19:56.142Z"
   },
   {
    "duration": 4,
    "start_time": "2024-10-24T19:19:56.362Z"
   },
   {
    "duration": 163,
    "start_time": "2024-10-25T00:11:51.889Z"
   },
   {
    "duration": 2674,
    "start_time": "2024-10-25T00:12:07.514Z"
   },
   {
    "duration": 656,
    "start_time": "2024-10-25T00:12:10.191Z"
   },
   {
    "duration": 166,
    "start_time": "2024-10-25T00:12:10.849Z"
   },
   {
    "duration": 90,
    "start_time": "2024-10-25T00:12:11.016Z"
   },
   {
    "duration": 171,
    "start_time": "2024-10-25T00:12:11.108Z"
   },
   {
    "duration": 7,
    "start_time": "2024-10-25T00:12:11.281Z"
   },
   {
    "duration": 5,
    "start_time": "2024-10-25T00:12:11.304Z"
   },
   {
    "duration": 7,
    "start_time": "2024-10-25T00:12:11.311Z"
   },
   {
    "duration": 24,
    "start_time": "2024-10-25T00:12:11.319Z"
   },
   {
    "duration": 28,
    "start_time": "2024-10-25T00:12:11.345Z"
   },
   {
    "duration": 31,
    "start_time": "2024-10-25T00:12:11.374Z"
   },
   {
    "duration": 6,
    "start_time": "2024-10-25T00:12:11.407Z"
   },
   {
    "duration": 2486,
    "start_time": "2024-10-25T00:12:11.414Z"
   },
   {
    "duration": 1953,
    "start_time": "2024-10-25T00:12:13.907Z"
   },
   {
    "duration": 1518,
    "start_time": "2024-10-25T00:12:15.862Z"
   },
   {
    "duration": 1580,
    "start_time": "2024-10-25T00:12:17.381Z"
   },
   {
    "duration": 4,
    "start_time": "2024-10-25T00:12:18.963Z"
   },
   {
    "duration": 976,
    "start_time": "2024-10-25T00:15:58.468Z"
   },
   {
    "duration": 505,
    "start_time": "2024-10-25T00:15:59.447Z"
   },
   {
    "duration": 160,
    "start_time": "2024-10-25T00:15:59.954Z"
   },
   {
    "duration": 91,
    "start_time": "2024-10-25T00:16:00.116Z"
   },
   {
    "duration": 170,
    "start_time": "2024-10-25T00:16:00.211Z"
   },
   {
    "duration": 6,
    "start_time": "2024-10-25T00:16:00.382Z"
   },
   {
    "duration": 18,
    "start_time": "2024-10-25T00:16:00.390Z"
   },
   {
    "duration": 6,
    "start_time": "2024-10-25T00:16:00.410Z"
   },
   {
    "duration": 25,
    "start_time": "2024-10-25T00:16:00.418Z"
   },
   {
    "duration": 30,
    "start_time": "2024-10-25T00:16:00.445Z"
   },
   {
    "duration": 30,
    "start_time": "2024-10-25T00:16:00.477Z"
   },
   {
    "duration": 8,
    "start_time": "2024-10-25T00:16:00.510Z"
   },
   {
    "duration": 2397,
    "start_time": "2024-10-25T00:16:00.520Z"
   },
   {
    "duration": 2010,
    "start_time": "2024-10-25T00:16:02.920Z"
   },
   {
    "duration": 1618,
    "start_time": "2024-10-25T00:16:04.932Z"
   },
   {
    "duration": 1572,
    "start_time": "2024-10-25T00:16:06.553Z"
   },
   {
    "duration": 4,
    "start_time": "2024-10-25T00:16:08.128Z"
   },
   {
    "duration": 276436,
    "start_time": "2024-10-25T00:16:08.134Z"
   },
   {
    "duration": 112181,
    "start_time": "2024-10-25T00:20:44.572Z"
   },
   {
    "duration": 0,
    "start_time": "2024-10-25T00:22:36.756Z"
   },
   {
    "duration": 0,
    "start_time": "2024-10-25T00:22:36.757Z"
   },
   {
    "duration": 0,
    "start_time": "2024-10-25T00:22:36.759Z"
   },
   {
    "duration": 0,
    "start_time": "2024-10-25T00:22:36.759Z"
   },
   {
    "duration": 0,
    "start_time": "2024-10-25T00:22:36.761Z"
   },
   {
    "duration": 6,
    "start_time": "2024-10-25T00:22:41.095Z"
   },
   {
    "duration": 508,
    "start_time": "2024-10-25T00:22:41.770Z"
   },
   {
    "duration": 152,
    "start_time": "2024-10-25T00:22:42.920Z"
   },
   {
    "duration": 84,
    "start_time": "2024-10-25T00:22:44.511Z"
   },
   {
    "duration": 161,
    "start_time": "2024-10-25T00:22:45.344Z"
   },
   {
    "duration": 8,
    "start_time": "2024-10-25T00:22:46.616Z"
   },
   {
    "duration": 5,
    "start_time": "2024-10-25T00:22:48.309Z"
   },
   {
    "duration": 6,
    "start_time": "2024-10-25T00:22:50.154Z"
   },
   {
    "duration": 21,
    "start_time": "2024-10-25T00:22:50.675Z"
   },
   {
    "duration": 25,
    "start_time": "2024-10-25T00:22:51.184Z"
   },
   {
    "duration": 7,
    "start_time": "2024-10-25T00:22:51.668Z"
   },
   {
    "duration": 6,
    "start_time": "2024-10-25T00:22:52.795Z"
   },
   {
    "duration": 2392,
    "start_time": "2024-10-25T00:22:52.962Z"
   },
   {
    "duration": 1957,
    "start_time": "2024-10-25T00:22:55.356Z"
   },
   {
    "duration": 1629,
    "start_time": "2024-10-25T00:22:57.316Z"
   },
   {
    "duration": 1596,
    "start_time": "2024-10-25T00:22:58.947Z"
   },
   {
    "duration": 18,
    "start_time": "2024-10-25T00:27:14.857Z"
   },
   {
    "duration": 15,
    "start_time": "2024-10-25T00:27:31.946Z"
   },
   {
    "duration": 4,
    "start_time": "2024-10-25T00:28:24.884Z"
   },
   {
    "duration": 17,
    "start_time": "2024-10-25T00:28:37.350Z"
   },
   {
    "duration": 3,
    "start_time": "2024-10-25T00:30:18.448Z"
   },
   {
    "duration": 276117,
    "start_time": "2024-10-25T00:30:42.943Z"
   },
   {
    "duration": 307302,
    "start_time": "2024-10-25T01:18:30.395Z"
   },
   {
    "duration": 3,
    "start_time": "2024-10-25T01:25:26.903Z"
   },
   {
    "duration": 964,
    "start_time": "2024-10-25T03:06:25.784Z"
   },
   {
    "duration": 508,
    "start_time": "2024-10-25T03:06:26.751Z"
   },
   {
    "duration": 160,
    "start_time": "2024-10-25T03:06:27.261Z"
   },
   {
    "duration": 92,
    "start_time": "2024-10-25T03:06:27.423Z"
   },
   {
    "duration": 171,
    "start_time": "2024-10-25T03:06:27.516Z"
   },
   {
    "duration": 16,
    "start_time": "2024-10-25T03:06:27.689Z"
   },
   {
    "duration": 5,
    "start_time": "2024-10-25T03:06:27.707Z"
   },
   {
    "duration": 6,
    "start_time": "2024-10-25T03:06:27.714Z"
   },
   {
    "duration": 23,
    "start_time": "2024-10-25T03:06:27.722Z"
   },
   {
    "duration": 27,
    "start_time": "2024-10-25T03:06:27.748Z"
   },
   {
    "duration": 31,
    "start_time": "2024-10-25T03:06:27.777Z"
   },
   {
    "duration": 6,
    "start_time": "2024-10-25T03:06:27.810Z"
   },
   {
    "duration": 2502,
    "start_time": "2024-10-25T03:06:27.817Z"
   },
   {
    "duration": 1994,
    "start_time": "2024-10-25T03:06:30.321Z"
   },
   {
    "duration": 1643,
    "start_time": "2024-10-25T03:06:32.317Z"
   },
   {
    "duration": 1513,
    "start_time": "2024-10-25T03:06:33.961Z"
   },
   {
    "duration": 29,
    "start_time": "2024-10-25T03:06:35.476Z"
   },
   {
    "duration": 5,
    "start_time": "2024-10-25T03:06:35.507Z"
   },
   {
    "duration": 275104,
    "start_time": "2024-10-25T03:06:35.513Z"
   },
   {
    "duration": 307624,
    "start_time": "2024-10-25T03:11:10.619Z"
   },
   {
    "duration": 4,
    "start_time": "2024-10-25T03:16:18.244Z"
   },
   {
    "duration": 303755,
    "start_time": "2024-10-25T03:16:18.250Z"
   },
   {
    "duration": 0,
    "start_time": "2024-10-25T03:21:22.007Z"
   },
   {
    "duration": 0,
    "start_time": "2024-10-25T03:21:22.008Z"
   },
   {
    "duration": 0,
    "start_time": "2024-10-25T03:21:22.009Z"
   },
   {
    "duration": 0,
    "start_time": "2024-10-25T03:21:22.011Z"
   },
   {
    "duration": 0,
    "start_time": "2024-10-25T03:21:22.013Z"
   },
   {
    "duration": 0,
    "start_time": "2024-10-25T03:21:22.014Z"
   },
   {
    "duration": 0,
    "start_time": "2024-10-25T03:21:22.015Z"
   },
   {
    "duration": 0,
    "start_time": "2024-10-25T03:21:22.016Z"
   },
   {
    "duration": 5,
    "start_time": "2024-10-25T03:21:28.697Z"
   },
   {
    "duration": 286701,
    "start_time": "2024-10-25T03:22:01.910Z"
   },
   {
    "duration": 317845,
    "start_time": "2024-10-25T03:27:09.676Z"
   },
   {
    "duration": 7,
    "start_time": "2024-10-25T03:32:34.614Z"
   },
   {
    "duration": 0,
    "start_time": "2024-10-25T04:14:28.939Z"
   },
   {
    "duration": 0,
    "start_time": "2024-10-25T04:14:28.940Z"
   },
   {
    "duration": 0,
    "start_time": "2024-10-25T04:14:28.941Z"
   },
   {
    "duration": 142469,
    "start_time": "2024-10-25T04:14:33.765Z"
   },
   {
    "duration": 158,
    "start_time": "2024-10-25T04:16:56.237Z"
   },
   {
    "duration": 7,
    "start_time": "2024-10-25T04:17:51.785Z"
   },
   {
    "duration": 2659,
    "start_time": "2024-10-25T08:17:48.879Z"
   },
   {
    "duration": 641,
    "start_time": "2024-10-25T08:17:51.540Z"
   },
   {
    "duration": 232,
    "start_time": "2024-10-25T08:17:52.183Z"
   },
   {
    "duration": 85,
    "start_time": "2024-10-25T08:17:52.425Z"
   },
   {
    "duration": 173,
    "start_time": "2024-10-25T08:17:52.512Z"
   },
   {
    "duration": 6,
    "start_time": "2024-10-25T08:17:52.687Z"
   },
   {
    "duration": 5,
    "start_time": "2024-10-25T08:17:52.695Z"
   },
   {
    "duration": 24,
    "start_time": "2024-10-25T08:17:52.702Z"
   },
   {
    "duration": 24,
    "start_time": "2024-10-25T08:17:52.728Z"
   },
   {
    "duration": 29,
    "start_time": "2024-10-25T08:17:52.754Z"
   },
   {
    "duration": 7,
    "start_time": "2024-10-25T08:17:52.784Z"
   },
   {
    "duration": 5,
    "start_time": "2024-10-25T08:17:52.793Z"
   },
   {
    "duration": 2408,
    "start_time": "2024-10-25T08:17:52.800Z"
   },
   {
    "duration": 1986,
    "start_time": "2024-10-25T08:17:55.210Z"
   },
   {
    "duration": 1648,
    "start_time": "2024-10-25T08:17:57.198Z"
   },
   {
    "duration": 236,
    "start_time": "2024-10-25T08:20:25.925Z"
   },
   {
    "duration": 1593,
    "start_time": "2024-10-25T08:20:41.337Z"
   },
   {
    "duration": 13,
    "start_time": "2024-10-25T08:20:46.265Z"
   },
   {
    "duration": 4,
    "start_time": "2024-10-25T08:20:53.896Z"
   },
   {
    "duration": 22,
    "start_time": "2024-10-25T08:21:03.720Z"
   },
   {
    "duration": 4,
    "start_time": "2024-10-25T08:21:13.157Z"
   },
   {
    "duration": 184,
    "start_time": "2024-10-25T13:56:39.138Z"
   },
   {
    "duration": 2788,
    "start_time": "2024-10-25T13:56:48.098Z"
   },
   {
    "duration": 622,
    "start_time": "2024-10-25T13:56:50.888Z"
   },
   {
    "duration": 164,
    "start_time": "2024-10-25T13:56:51.512Z"
   },
   {
    "duration": 96,
    "start_time": "2024-10-25T13:56:51.679Z"
   },
   {
    "duration": 183,
    "start_time": "2024-10-25T13:56:51.777Z"
   },
   {
    "duration": 7,
    "start_time": "2024-10-25T13:56:51.962Z"
   },
   {
    "duration": 9,
    "start_time": "2024-10-25T13:56:51.972Z"
   },
   {
    "duration": 22,
    "start_time": "2024-10-25T13:56:51.983Z"
   },
   {
    "duration": 24,
    "start_time": "2024-10-25T13:56:52.007Z"
   },
   {
    "duration": 33,
    "start_time": "2024-10-25T13:56:52.036Z"
   },
   {
    "duration": 7,
    "start_time": "2024-10-25T13:56:52.071Z"
   },
   {
    "duration": 7,
    "start_time": "2024-10-25T13:56:52.080Z"
   },
   {
    "duration": 2485,
    "start_time": "2024-10-25T13:56:52.106Z"
   },
   {
    "duration": 1992,
    "start_time": "2024-10-25T13:56:54.593Z"
   },
   {
    "duration": 1703,
    "start_time": "2024-10-25T13:56:56.588Z"
   },
   {
    "duration": 1606,
    "start_time": "2024-10-25T13:56:58.294Z"
   },
   {
    "duration": 274,
    "start_time": "2024-10-25T13:56:59.904Z"
   },
   {
    "duration": 0,
    "start_time": "2024-10-25T13:57:00.180Z"
   },
   {
    "duration": 0,
    "start_time": "2024-10-25T13:57:00.182Z"
   },
   {
    "duration": 0,
    "start_time": "2024-10-25T13:57:00.183Z"
   },
   {
    "duration": 0,
    "start_time": "2024-10-25T13:57:00.185Z"
   },
   {
    "duration": 0,
    "start_time": "2024-10-25T13:57:00.186Z"
   },
   {
    "duration": 0,
    "start_time": "2024-10-25T13:57:00.186Z"
   },
   {
    "duration": 0,
    "start_time": "2024-10-25T13:57:00.187Z"
   },
   {
    "duration": 0,
    "start_time": "2024-10-25T13:57:00.188Z"
   },
   {
    "duration": 0,
    "start_time": "2024-10-25T13:57:00.205Z"
   },
   {
    "duration": 6,
    "start_time": "2024-10-25T13:57:29.044Z"
   },
   {
    "duration": 27,
    "start_time": "2024-10-25T14:02:50.216Z"
   },
   {
    "duration": 7,
    "start_time": "2024-10-25T14:02:51.513Z"
   },
   {
    "duration": 247434,
    "start_time": "2024-10-25T14:02:56.329Z"
   },
   {
    "duration": 3,
    "start_time": "2024-10-25T14:07:03.766Z"
   },
   {
    "duration": 25,
    "start_time": "2024-10-25T14:13:19.636Z"
   },
   {
    "duration": 4,
    "start_time": "2024-10-25T14:13:21.493Z"
   },
   {
    "duration": 4,
    "start_time": "2024-10-25T14:13:30.162Z"
   },
   {
    "duration": 4,
    "start_time": "2024-10-25T14:13:46.568Z"
   },
   {
    "duration": 5,
    "start_time": "2024-10-25T14:14:27.418Z"
   },
   {
    "duration": 246551,
    "start_time": "2024-10-25T14:14:35.466Z"
   },
   {
    "duration": 5,
    "start_time": "2024-10-25T14:22:30.775Z"
   },
   {
    "duration": 247595,
    "start_time": "2024-10-25T14:22:31.745Z"
   },
   {
    "duration": 2,
    "start_time": "2024-10-25T14:27:13.522Z"
   },
   {
    "duration": 16,
    "start_time": "2024-10-25T14:30:30.466Z"
   },
   {
    "duration": 20,
    "start_time": "2024-10-25T14:32:54.176Z"
   },
   {
    "duration": 3,
    "start_time": "2024-10-25T14:38:57.685Z"
   },
   {
    "duration": 71964,
    "start_time": "2024-10-25T14:43:08.062Z"
   },
   {
    "duration": 15,
    "start_time": "2024-10-25T14:48:41.619Z"
   },
   {
    "duration": 7,
    "start_time": "2024-10-25T14:49:06.325Z"
   },
   {
    "duration": 1073843,
    "start_time": "2024-10-25T14:49:17.365Z"
   },
   {
    "duration": 0,
    "start_time": "2024-10-25T15:07:11.210Z"
   },
   {
    "duration": 1480,
    "start_time": "2024-10-25T15:07:57.590Z"
   },
   {
    "duration": 5,
    "start_time": "2024-10-25T15:09:07.243Z"
   },
   {
    "duration": 1288,
    "start_time": "2024-10-25T15:09:46.068Z"
   },
   {
    "duration": 443,
    "start_time": "2024-10-25T15:16:40.421Z"
   },
   {
    "duration": 45,
    "start_time": "2024-10-25T15:18:25.605Z"
   },
   {
    "duration": 1574,
    "start_time": "2024-10-25T15:23:54.684Z"
   },
   {
    "duration": 1577,
    "start_time": "2024-10-25T15:32:46.599Z"
   },
   {
    "duration": 284,
    "start_time": "2024-10-25T15:34:52.526Z"
   },
   {
    "duration": 786,
    "start_time": "2024-10-25T15:36:39.668Z"
   },
   {
    "duration": 939,
    "start_time": "2024-10-25T15:38:33.869Z"
   },
   {
    "duration": 32,
    "start_time": "2024-10-25T15:47:06.300Z"
   },
   {
    "duration": 33,
    "start_time": "2024-10-25T15:48:49.706Z"
   },
   {
    "duration": 36,
    "start_time": "2024-10-25T15:53:39.023Z"
   },
   {
    "duration": 34,
    "start_time": "2024-10-25T15:53:53.500Z"
   },
   {
    "duration": 23,
    "start_time": "2024-10-25T15:54:20.721Z"
   },
   {
    "duration": 29,
    "start_time": "2024-10-25T15:54:24.005Z"
   },
   {
    "duration": 21,
    "start_time": "2024-10-25T15:54:24.405Z"
   },
   {
    "duration": 7,
    "start_time": "2024-10-25T15:54:51.384Z"
   },
   {
    "duration": 7,
    "start_time": "2024-10-25T15:54:53.427Z"
   },
   {
    "duration": 2434,
    "start_time": "2024-10-25T15:54:54.455Z"
   },
   {
    "duration": 1900,
    "start_time": "2024-10-25T15:54:57.344Z"
   },
   {
    "duration": 795,
    "start_time": "2024-10-25T15:55:01.351Z"
   },
   {
    "duration": 226,
    "start_time": "2024-10-25T15:55:04.857Z"
   },
   {
    "duration": 25,
    "start_time": "2024-10-25T15:56:15.057Z"
   },
   {
    "duration": 22,
    "start_time": "2024-10-25T15:56:15.966Z"
   },
   {
    "duration": 958,
    "start_time": "2024-10-25T15:56:41.366Z"
   },
   {
    "duration": 515,
    "start_time": "2024-10-25T15:56:42.326Z"
   },
   {
    "duration": 172,
    "start_time": "2024-10-25T15:56:42.842Z"
   },
   {
    "duration": 98,
    "start_time": "2024-10-25T15:56:43.016Z"
   },
   {
    "duration": 165,
    "start_time": "2024-10-25T15:56:43.117Z"
   },
   {
    "duration": 6,
    "start_time": "2024-10-25T15:56:43.284Z"
   },
   {
    "duration": 16,
    "start_time": "2024-10-25T15:56:43.291Z"
   },
   {
    "duration": 7,
    "start_time": "2024-10-25T15:56:43.309Z"
   },
   {
    "duration": 26,
    "start_time": "2024-10-25T15:56:43.318Z"
   },
   {
    "duration": 27,
    "start_time": "2024-10-25T15:56:43.345Z"
   },
   {
    "duration": 31,
    "start_time": "2024-10-25T15:56:43.374Z"
   },
   {
    "duration": 6,
    "start_time": "2024-10-25T15:56:43.407Z"
   },
   {
    "duration": 2385,
    "start_time": "2024-10-25T15:56:43.415Z"
   },
   {
    "duration": 2006,
    "start_time": "2024-10-25T15:56:45.803Z"
   },
   {
    "duration": 901,
    "start_time": "2024-10-25T15:56:47.810Z"
   },
   {
    "duration": 211,
    "start_time": "2024-10-25T15:56:48.713Z"
   },
   {
    "duration": 0,
    "start_time": "2024-10-25T15:56:48.927Z"
   },
   {
    "duration": 0,
    "start_time": "2024-10-25T15:56:48.928Z"
   },
   {
    "duration": 0,
    "start_time": "2024-10-25T15:56:48.930Z"
   },
   {
    "duration": 1,
    "start_time": "2024-10-25T15:56:48.931Z"
   },
   {
    "duration": 0,
    "start_time": "2024-10-25T15:56:48.933Z"
   },
   {
    "duration": 0,
    "start_time": "2024-10-25T15:56:48.935Z"
   },
   {
    "duration": 0,
    "start_time": "2024-10-25T15:56:48.936Z"
   },
   {
    "duration": 0,
    "start_time": "2024-10-25T15:56:48.938Z"
   },
   {
    "duration": 0,
    "start_time": "2024-10-25T15:56:48.939Z"
   },
   {
    "duration": 0,
    "start_time": "2024-10-25T15:56:48.941Z"
   },
   {
    "duration": 0,
    "start_time": "2024-10-25T15:56:48.942Z"
   },
   {
    "duration": 0,
    "start_time": "2024-10-25T15:56:48.943Z"
   },
   {
    "duration": 25,
    "start_time": "2024-10-25T15:57:10.969Z"
   },
   {
    "duration": 7,
    "start_time": "2024-10-25T15:57:11.782Z"
   },
   {
    "duration": 6,
    "start_time": "2024-10-25T15:57:12.987Z"
   },
   {
    "duration": 2283,
    "start_time": "2024-10-25T15:57:13.467Z"
   },
   {
    "duration": 1873,
    "start_time": "2024-10-25T15:57:15.753Z"
   },
   {
    "duration": 893,
    "start_time": "2024-10-25T15:57:17.656Z"
   },
   {
    "duration": 83,
    "start_time": "2024-10-25T15:57:19.484Z"
   },
   {
    "duration": 25,
    "start_time": "2024-10-25T15:59:48.973Z"
   },
   {
    "duration": 23,
    "start_time": "2024-10-25T16:00:24.793Z"
   },
   {
    "duration": 23,
    "start_time": "2024-10-25T16:00:47.454Z"
   },
   {
    "duration": 24,
    "start_time": "2024-10-25T16:00:57.198Z"
   },
   {
    "duration": 984,
    "start_time": "2024-10-25T16:01:07.552Z"
   },
   {
    "duration": 489,
    "start_time": "2024-10-25T16:01:08.539Z"
   },
   {
    "duration": 159,
    "start_time": "2024-10-25T16:01:09.030Z"
   },
   {
    "duration": 94,
    "start_time": "2024-10-25T16:01:09.190Z"
   },
   {
    "duration": 165,
    "start_time": "2024-10-25T16:01:09.287Z"
   },
   {
    "duration": 5,
    "start_time": "2024-10-25T16:01:09.454Z"
   },
   {
    "duration": 5,
    "start_time": "2024-10-25T16:01:09.461Z"
   },
   {
    "duration": 8,
    "start_time": "2024-10-25T16:01:09.467Z"
   },
   {
    "duration": 47,
    "start_time": "2024-10-25T16:01:09.476Z"
   },
   {
    "duration": 29,
    "start_time": "2024-10-25T16:01:09.525Z"
   },
   {
    "duration": 6,
    "start_time": "2024-10-25T16:01:09.556Z"
   },
   {
    "duration": 6,
    "start_time": "2024-10-25T16:01:09.564Z"
   },
   {
    "duration": 2403,
    "start_time": "2024-10-25T16:01:09.572Z"
   },
   {
    "duration": 2057,
    "start_time": "2024-10-25T16:01:11.980Z"
   },
   {
    "duration": 898,
    "start_time": "2024-10-25T16:01:14.039Z"
   },
   {
    "duration": 214,
    "start_time": "2024-10-25T16:01:14.939Z"
   },
   {
    "duration": 0,
    "start_time": "2024-10-25T16:01:15.155Z"
   },
   {
    "duration": 0,
    "start_time": "2024-10-25T16:01:15.156Z"
   },
   {
    "duration": 0,
    "start_time": "2024-10-25T16:01:15.158Z"
   },
   {
    "duration": 0,
    "start_time": "2024-10-25T16:01:15.159Z"
   },
   {
    "duration": 0,
    "start_time": "2024-10-25T16:01:15.161Z"
   },
   {
    "duration": 0,
    "start_time": "2024-10-25T16:01:15.162Z"
   },
   {
    "duration": 0,
    "start_time": "2024-10-25T16:01:15.164Z"
   },
   {
    "duration": 0,
    "start_time": "2024-10-25T16:01:15.166Z"
   },
   {
    "duration": 0,
    "start_time": "2024-10-25T16:01:15.167Z"
   },
   {
    "duration": 0,
    "start_time": "2024-10-25T16:01:15.168Z"
   },
   {
    "duration": 0,
    "start_time": "2024-10-25T16:01:15.169Z"
   },
   {
    "duration": 0,
    "start_time": "2024-10-25T16:01:15.170Z"
   },
   {
    "duration": 522,
    "start_time": "2024-10-25T16:02:25.636Z"
   },
   {
    "duration": 56,
    "start_time": "2024-10-25T16:03:10.776Z"
   },
   {
    "duration": 4,
    "start_time": "2024-10-25T16:03:24.464Z"
   },
   {
    "duration": 923,
    "start_time": "2024-10-25T16:05:02.075Z"
   },
   {
    "duration": 58,
    "start_time": "2024-10-25T16:06:46.570Z"
   },
   {
    "duration": 61,
    "start_time": "2024-10-25T16:07:12.488Z"
   },
   {
    "duration": 57,
    "start_time": "2024-10-25T16:07:48.353Z"
   },
   {
    "duration": 58,
    "start_time": "2024-10-25T16:08:07.864Z"
   },
   {
    "duration": 60,
    "start_time": "2024-10-25T16:08:27.800Z"
   },
   {
    "duration": 323,
    "start_time": "2024-10-25T16:08:46.320Z"
   },
   {
    "duration": 8,
    "start_time": "2024-10-25T16:10:37.536Z"
   },
   {
    "duration": 15,
    "start_time": "2024-10-25T16:10:38.781Z"
   },
   {
    "duration": 4,
    "start_time": "2024-10-25T16:11:26.330Z"
   },
   {
    "duration": 1021,
    "start_time": "2024-10-25T16:11:38.930Z"
   },
   {
    "duration": 510,
    "start_time": "2024-10-25T16:11:39.954Z"
   },
   {
    "duration": 158,
    "start_time": "2024-10-25T16:11:40.468Z"
   },
   {
    "duration": 94,
    "start_time": "2024-10-25T16:11:40.628Z"
   },
   {
    "duration": 171,
    "start_time": "2024-10-25T16:11:40.725Z"
   },
   {
    "duration": 9,
    "start_time": "2024-10-25T16:11:40.898Z"
   },
   {
    "duration": 5,
    "start_time": "2024-10-25T16:11:40.909Z"
   },
   {
    "duration": 7,
    "start_time": "2024-10-25T16:11:40.916Z"
   },
   {
    "duration": 25,
    "start_time": "2024-10-25T16:11:40.925Z"
   },
   {
    "duration": 54,
    "start_time": "2024-10-25T16:11:40.952Z"
   },
   {
    "duration": 7,
    "start_time": "2024-10-25T16:11:41.007Z"
   },
   {
    "duration": 7,
    "start_time": "2024-10-25T16:11:41.015Z"
   },
   {
    "duration": 2486,
    "start_time": "2024-10-25T16:11:41.024Z"
   },
   {
    "duration": 1977,
    "start_time": "2024-10-25T16:11:43.514Z"
   },
   {
    "duration": 879,
    "start_time": "2024-10-25T16:11:45.494Z"
   },
   {
    "duration": 3,
    "start_time": "2024-10-25T16:11:46.375Z"
   },
   {
    "duration": 3,
    "start_time": "2024-10-25T16:11:46.381Z"
   },
   {
    "duration": 51,
    "start_time": "2024-10-25T16:11:46.386Z"
   },
   {
    "duration": 34,
    "start_time": "2024-10-25T16:11:46.439Z"
   },
   {
    "duration": 5,
    "start_time": "2024-10-25T16:11:46.475Z"
   },
   {
    "duration": 253,
    "start_time": "2024-10-25T16:11:46.505Z"
   },
   {
    "duration": 0,
    "start_time": "2024-10-25T16:11:46.760Z"
   },
   {
    "duration": 0,
    "start_time": "2024-10-25T16:11:46.761Z"
   },
   {
    "duration": 0,
    "start_time": "2024-10-25T16:11:46.762Z"
   },
   {
    "duration": 0,
    "start_time": "2024-10-25T16:11:46.763Z"
   },
   {
    "duration": 0,
    "start_time": "2024-10-25T16:11:46.764Z"
   },
   {
    "duration": 0,
    "start_time": "2024-10-25T16:11:46.765Z"
   },
   {
    "duration": 0,
    "start_time": "2024-10-25T16:11:46.766Z"
   },
   {
    "duration": 0,
    "start_time": "2024-10-25T16:11:46.767Z"
   },
   {
    "duration": 0,
    "start_time": "2024-10-25T16:11:46.768Z"
   },
   {
    "duration": 0,
    "start_time": "2024-10-25T16:11:46.769Z"
   },
   {
    "duration": 4,
    "start_time": "2024-10-25T16:12:16.805Z"
   },
   {
    "duration": 303,
    "start_time": "2024-10-25T16:13:09.847Z"
   },
   {
    "duration": 429,
    "start_time": "2024-10-25T16:13:47.586Z"
   },
   {
    "duration": 8,
    "start_time": "2024-10-25T16:13:56.932Z"
   },
   {
    "duration": 3,
    "start_time": "2024-10-25T16:13:57.465Z"
   },
   {
    "duration": 987,
    "start_time": "2024-10-25T16:14:03.701Z"
   },
   {
    "duration": 505,
    "start_time": "2024-10-25T16:14:04.690Z"
   },
   {
    "duration": 161,
    "start_time": "2024-10-25T16:14:05.197Z"
   },
   {
    "duration": 88,
    "start_time": "2024-10-25T16:14:05.360Z"
   },
   {
    "duration": 168,
    "start_time": "2024-10-25T16:14:05.450Z"
   },
   {
    "duration": 7,
    "start_time": "2024-10-25T16:14:05.619Z"
   },
   {
    "duration": 5,
    "start_time": "2024-10-25T16:14:05.628Z"
   },
   {
    "duration": 7,
    "start_time": "2024-10-25T16:14:05.634Z"
   },
   {
    "duration": 27,
    "start_time": "2024-10-25T16:14:05.643Z"
   },
   {
    "duration": 55,
    "start_time": "2024-10-25T16:14:05.671Z"
   },
   {
    "duration": 8,
    "start_time": "2024-10-25T16:14:05.727Z"
   },
   {
    "duration": 6,
    "start_time": "2024-10-25T16:14:05.736Z"
   },
   {
    "duration": 2351,
    "start_time": "2024-10-25T16:14:05.744Z"
   },
   {
    "duration": 1985,
    "start_time": "2024-10-25T16:14:08.098Z"
   },
   {
    "duration": 902,
    "start_time": "2024-10-25T16:14:10.085Z"
   },
   {
    "duration": 3,
    "start_time": "2024-10-25T16:14:10.989Z"
   },
   {
    "duration": 12,
    "start_time": "2024-10-25T16:14:10.994Z"
   },
   {
    "duration": 4,
    "start_time": "2024-10-25T16:14:11.008Z"
   },
   {
    "duration": 34,
    "start_time": "2024-10-25T16:14:11.014Z"
   },
   {
    "duration": 61,
    "start_time": "2024-10-25T16:14:11.050Z"
   },
   {
    "duration": 5,
    "start_time": "2024-10-25T16:14:11.113Z"
   },
   {
    "duration": 249,
    "start_time": "2024-10-25T16:14:11.120Z"
   },
   {
    "duration": 0,
    "start_time": "2024-10-25T16:14:11.371Z"
   },
   {
    "duration": 0,
    "start_time": "2024-10-25T16:14:11.372Z"
   },
   {
    "duration": 0,
    "start_time": "2024-10-25T16:14:11.374Z"
   },
   {
    "duration": 0,
    "start_time": "2024-10-25T16:14:11.376Z"
   },
   {
    "duration": 0,
    "start_time": "2024-10-25T16:14:11.377Z"
   },
   {
    "duration": 0,
    "start_time": "2024-10-25T16:14:11.379Z"
   },
   {
    "duration": 0,
    "start_time": "2024-10-25T16:14:11.380Z"
   },
   {
    "duration": 0,
    "start_time": "2024-10-25T16:14:11.382Z"
   },
   {
    "duration": 0,
    "start_time": "2024-10-25T16:14:11.383Z"
   },
   {
    "duration": 0,
    "start_time": "2024-10-25T16:14:11.404Z"
   },
   {
    "duration": 4,
    "start_time": "2024-10-25T16:16:14.550Z"
   },
   {
    "duration": 12,
    "start_time": "2024-10-25T16:16:41.302Z"
   },
   {
    "duration": 3,
    "start_time": "2024-10-25T16:16:47.238Z"
   },
   {
    "duration": 3,
    "start_time": "2024-10-25T16:17:58.610Z"
   },
   {
    "duration": 989,
    "start_time": "2024-10-25T16:26:00.046Z"
   },
   {
    "duration": 513,
    "start_time": "2024-10-25T16:26:01.038Z"
   },
   {
    "duration": 173,
    "start_time": "2024-10-25T16:26:01.552Z"
   },
   {
    "duration": 94,
    "start_time": "2024-10-25T16:26:01.726Z"
   },
   {
    "duration": 165,
    "start_time": "2024-10-25T16:26:01.823Z"
   },
   {
    "duration": 5,
    "start_time": "2024-10-25T16:26:01.990Z"
   },
   {
    "duration": 5,
    "start_time": "2024-10-25T16:26:02.006Z"
   },
   {
    "duration": 7,
    "start_time": "2024-10-25T16:26:02.013Z"
   },
   {
    "duration": 26,
    "start_time": "2024-10-25T16:26:02.022Z"
   },
   {
    "duration": 29,
    "start_time": "2024-10-25T16:26:02.050Z"
   },
   {
    "duration": 28,
    "start_time": "2024-10-25T16:26:02.081Z"
   },
   {
    "duration": 6,
    "start_time": "2024-10-25T16:26:02.110Z"
   },
   {
    "duration": 2487,
    "start_time": "2024-10-25T16:26:02.118Z"
   },
   {
    "duration": 2015,
    "start_time": "2024-10-25T16:26:04.609Z"
   },
   {
    "duration": 914,
    "start_time": "2024-10-25T16:26:06.626Z"
   },
   {
    "duration": 4,
    "start_time": "2024-10-25T16:26:07.541Z"
   },
   {
    "duration": 5,
    "start_time": "2024-10-25T16:26:07.546Z"
   },
   {
    "duration": 33,
    "start_time": "2024-10-25T16:26:07.553Z"
   },
   {
    "duration": 21,
    "start_time": "2024-10-25T16:26:07.604Z"
   },
   {
    "duration": 239,
    "start_time": "2024-10-25T16:26:07.626Z"
   },
   {
    "duration": 0,
    "start_time": "2024-10-25T16:26:07.867Z"
   },
   {
    "duration": 0,
    "start_time": "2024-10-25T16:26:07.868Z"
   },
   {
    "duration": 0,
    "start_time": "2024-10-25T16:26:07.869Z"
   },
   {
    "duration": 0,
    "start_time": "2024-10-25T16:26:07.870Z"
   },
   {
    "duration": 0,
    "start_time": "2024-10-25T16:26:07.870Z"
   },
   {
    "duration": 0,
    "start_time": "2024-10-25T16:26:07.871Z"
   },
   {
    "duration": 0,
    "start_time": "2024-10-25T16:26:07.877Z"
   },
   {
    "duration": 0,
    "start_time": "2024-10-25T16:26:07.878Z"
   },
   {
    "duration": 0,
    "start_time": "2024-10-25T16:26:07.880Z"
   },
   {
    "duration": 0,
    "start_time": "2024-10-25T16:26:07.881Z"
   },
   {
    "duration": 0,
    "start_time": "2024-10-25T16:26:07.883Z"
   },
   {
    "duration": 804,
    "start_time": "2024-10-25T16:27:49.438Z"
   },
   {
    "duration": 1017,
    "start_time": "2024-10-25T16:28:03.026Z"
   },
   {
    "duration": 526,
    "start_time": "2024-10-25T16:28:04.046Z"
   },
   {
    "duration": 162,
    "start_time": "2024-10-25T16:28:04.573Z"
   },
   {
    "duration": 95,
    "start_time": "2024-10-25T16:28:04.736Z"
   },
   {
    "duration": 172,
    "start_time": "2024-10-25T16:28:04.833Z"
   },
   {
    "duration": 6,
    "start_time": "2024-10-25T16:28:05.006Z"
   },
   {
    "duration": 5,
    "start_time": "2024-10-25T16:28:05.015Z"
   },
   {
    "duration": 7,
    "start_time": "2024-10-25T16:28:05.022Z"
   },
   {
    "duration": 26,
    "start_time": "2024-10-25T16:28:05.031Z"
   },
   {
    "duration": 54,
    "start_time": "2024-10-25T16:28:05.058Z"
   },
   {
    "duration": 6,
    "start_time": "2024-10-25T16:28:05.114Z"
   },
   {
    "duration": 6,
    "start_time": "2024-10-25T16:28:05.122Z"
   },
   {
    "duration": 2356,
    "start_time": "2024-10-25T16:28:05.129Z"
   },
   {
    "duration": 2057,
    "start_time": "2024-10-25T16:28:07.488Z"
   },
   {
    "duration": 888,
    "start_time": "2024-10-25T16:28:09.547Z"
   },
   {
    "duration": 3,
    "start_time": "2024-10-25T16:28:10.437Z"
   },
   {
    "duration": 5,
    "start_time": "2024-10-25T16:28:10.442Z"
   },
   {
    "duration": 32,
    "start_time": "2024-10-25T16:28:10.448Z"
   },
   {
    "duration": 39,
    "start_time": "2024-10-25T16:28:10.482Z"
   },
   {
    "duration": 36,
    "start_time": "2024-10-25T16:28:10.523Z"
   },
   {
    "duration": 3,
    "start_time": "2024-10-25T16:28:10.561Z"
   },
   {
    "duration": 474,
    "start_time": "2024-10-25T16:28:10.566Z"
   },
   {
    "duration": 0,
    "start_time": "2024-10-25T16:28:11.042Z"
   },
   {
    "duration": 0,
    "start_time": "2024-10-25T16:28:11.043Z"
   },
   {
    "duration": 0,
    "start_time": "2024-10-25T16:28:11.045Z"
   },
   {
    "duration": 0,
    "start_time": "2024-10-25T16:28:11.046Z"
   },
   {
    "duration": 0,
    "start_time": "2024-10-25T16:28:11.047Z"
   },
   {
    "duration": 0,
    "start_time": "2024-10-25T16:28:11.048Z"
   },
   {
    "duration": 0,
    "start_time": "2024-10-25T16:28:11.049Z"
   },
   {
    "duration": 0,
    "start_time": "2024-10-25T16:28:11.050Z"
   },
   {
    "duration": 0,
    "start_time": "2024-10-25T16:28:11.051Z"
   },
   {
    "duration": 5,
    "start_time": "2024-10-25T16:29:40.436Z"
   },
   {
    "duration": 15,
    "start_time": "2024-10-25T16:29:43.398Z"
   },
   {
    "duration": 243281,
    "start_time": "2024-10-25T16:30:59.016Z"
   },
   {
    "duration": 18,
    "start_time": "2024-10-25T16:44:54.564Z"
   },
   {
    "duration": 20,
    "start_time": "2024-10-25T16:44:55.272Z"
   },
   {
    "duration": 635,
    "start_time": "2024-10-25T16:45:21.431Z"
   },
   {
    "duration": 35,
    "start_time": "2024-10-25T16:47:11.300Z"
   },
   {
    "duration": 3,
    "start_time": "2024-10-25T16:47:14.548Z"
   },
   {
    "duration": 3,
    "start_time": "2024-10-25T16:47:52.898Z"
   },
   {
    "duration": 3,
    "start_time": "2024-10-25T16:59:24.372Z"
   },
   {
    "duration": 2,
    "start_time": "2024-10-25T16:59:43.157Z"
   },
   {
    "duration": 4,
    "start_time": "2024-10-25T17:00:01.782Z"
   },
   {
    "duration": 4,
    "start_time": "2024-10-25T17:00:09.595Z"
   },
   {
    "duration": 453,
    "start_time": "2024-10-25T17:00:10.234Z"
   },
   {
    "duration": 150,
    "start_time": "2024-10-25T17:00:13.427Z"
   },
   {
    "duration": 84,
    "start_time": "2024-10-25T17:00:14.588Z"
   },
   {
    "duration": 159,
    "start_time": "2024-10-25T17:00:17.331Z"
   },
   {
    "duration": 8,
    "start_time": "2024-10-25T17:00:20.449Z"
   },
   {
    "duration": 8,
    "start_time": "2024-10-25T17:00:24.653Z"
   },
   {
    "duration": 7,
    "start_time": "2024-10-25T17:00:42.785Z"
   },
   {
    "duration": 3,
    "start_time": "2024-10-25T17:01:23.118Z"
   },
   {
    "duration": 27,
    "start_time": "2024-10-25T17:01:28.209Z"
   },
   {
    "duration": 3,
    "start_time": "2024-10-25T17:01:37.249Z"
   },
   {
    "duration": 4,
    "start_time": "2024-10-25T17:05:31.791Z"
   },
   {
    "duration": 490,
    "start_time": "2024-10-25T17:05:32.250Z"
   },
   {
    "duration": 162,
    "start_time": "2024-10-25T17:05:32.742Z"
   },
   {
    "duration": 82,
    "start_time": "2024-10-25T17:05:33.457Z"
   },
   {
    "duration": 159,
    "start_time": "2024-10-25T17:05:33.882Z"
   },
   {
    "duration": 6,
    "start_time": "2024-10-25T17:05:36.612Z"
   },
   {
    "duration": 5,
    "start_time": "2024-10-25T17:05:41.557Z"
   },
   {
    "duration": 7,
    "start_time": "2024-10-25T17:05:46.151Z"
   },
   {
    "duration": 3,
    "start_time": "2024-10-25T17:05:49.546Z"
   },
   {
    "duration": 24,
    "start_time": "2024-10-25T17:05:57.929Z"
   },
   {
    "duration": 3,
    "start_time": "2024-10-25T17:06:09.321Z"
   },
   {
    "duration": 17,
    "start_time": "2024-10-25T17:06:26.972Z"
   },
   {
    "duration": 6,
    "start_time": "2024-10-25T17:06:55.771Z"
   },
   {
    "duration": 7,
    "start_time": "2024-10-25T17:07:00.382Z"
   },
   {
    "duration": 2334,
    "start_time": "2024-10-25T17:07:01.051Z"
   },
   {
    "duration": 2144,
    "start_time": "2024-10-25T17:07:06.934Z"
   },
   {
    "duration": 858,
    "start_time": "2024-10-25T17:07:29.783Z"
   },
   {
    "duration": 4,
    "start_time": "2024-10-25T17:07:45.537Z"
   },
   {
    "duration": 17,
    "start_time": "2024-10-25T17:07:49.090Z"
   },
   {
    "duration": 3,
    "start_time": "2024-10-25T17:07:49.587Z"
   },
   {
    "duration": 27,
    "start_time": "2024-10-25T17:07:56.027Z"
   },
   {
    "duration": 3,
    "start_time": "2024-10-25T17:07:57.693Z"
   },
   {
    "duration": 5,
    "start_time": "2024-10-25T17:08:03.976Z"
   },
   {
    "duration": 216246,
    "start_time": "2024-10-25T17:08:04.769Z"
   },
   {
    "duration": 28,
    "start_time": "2024-10-25T17:13:41.210Z"
   },
   {
    "duration": 3,
    "start_time": "2024-10-25T17:13:41.653Z"
   },
   {
    "duration": 216578,
    "start_time": "2024-10-25T17:14:49.596Z"
   },
   {
    "duration": 15,
    "start_time": "2024-10-25T17:20:18.461Z"
   },
   {
    "duration": 240507,
    "start_time": "2024-10-25T17:21:10.082Z"
   },
   {
    "duration": 3,
    "start_time": "2024-10-25T17:25:30.452Z"
   },
   {
    "duration": 105300,
    "start_time": "2024-10-25T17:25:36.733Z"
   },
   {
    "duration": 115,
    "start_time": "2024-10-25T17:27:45.006Z"
   },
   {
    "duration": 20,
    "start_time": "2024-10-25T17:27:47.417Z"
   },
   {
    "duration": 1077767,
    "start_time": "2024-10-25T17:30:56.432Z"
   },
   {
    "duration": 7,
    "start_time": "2024-10-25T17:49:09.796Z"
   },
   {
    "duration": 990,
    "start_time": "2024-10-25T18:09:29.382Z"
   },
   {
    "duration": 525,
    "start_time": "2024-10-25T18:09:30.374Z"
   },
   {
    "duration": 161,
    "start_time": "2024-10-25T18:09:30.901Z"
   },
   {
    "duration": 93,
    "start_time": "2024-10-25T18:09:31.064Z"
   },
   {
    "duration": 178,
    "start_time": "2024-10-25T18:09:31.159Z"
   },
   {
    "duration": 6,
    "start_time": "2024-10-25T18:09:31.339Z"
   },
   {
    "duration": 5,
    "start_time": "2024-10-25T18:09:31.347Z"
   },
   {
    "duration": 8,
    "start_time": "2024-10-25T18:09:31.353Z"
   },
   {
    "duration": 53,
    "start_time": "2024-10-25T18:09:31.362Z"
   },
   {
    "duration": 6,
    "start_time": "2024-10-25T18:09:31.417Z"
   },
   {
    "duration": 6,
    "start_time": "2024-10-25T18:09:31.424Z"
   },
   {
    "duration": 2516,
    "start_time": "2024-10-25T18:09:31.432Z"
   },
   {
    "duration": 2185,
    "start_time": "2024-10-25T18:09:33.949Z"
   },
   {
    "duration": 814,
    "start_time": "2024-10-25T18:09:36.138Z"
   },
   {
    "duration": 3,
    "start_time": "2024-10-25T18:09:36.954Z"
   },
   {
    "duration": 20,
    "start_time": "2024-10-25T18:09:36.959Z"
   },
   {
    "duration": 3,
    "start_time": "2024-10-25T18:09:36.980Z"
   },
   {
    "duration": 31,
    "start_time": "2024-10-25T18:09:37.004Z"
   },
   {
    "duration": 3,
    "start_time": "2024-10-25T18:09:37.037Z"
   },
   {
    "duration": 5,
    "start_time": "2024-10-25T18:09:37.042Z"
   },
   {
    "duration": 966,
    "start_time": "2024-10-25T18:10:19.765Z"
   },
   {
    "duration": 498,
    "start_time": "2024-10-25T18:10:20.733Z"
   },
   {
    "duration": 160,
    "start_time": "2024-10-25T18:10:21.232Z"
   },
   {
    "duration": 93,
    "start_time": "2024-10-25T18:10:21.393Z"
   },
   {
    "duration": 172,
    "start_time": "2024-10-25T18:10:21.489Z"
   },
   {
    "duration": 7,
    "start_time": "2024-10-25T18:10:21.662Z"
   },
   {
    "duration": 5,
    "start_time": "2024-10-25T18:10:21.670Z"
   },
   {
    "duration": 7,
    "start_time": "2024-10-25T18:10:21.677Z"
   },
   {
    "duration": 52,
    "start_time": "2024-10-25T18:10:21.686Z"
   },
   {
    "duration": 6,
    "start_time": "2024-10-25T18:10:21.740Z"
   },
   {
    "duration": 7,
    "start_time": "2024-10-25T18:10:21.748Z"
   },
   {
    "duration": 2330,
    "start_time": "2024-10-25T18:10:21.757Z"
   },
   {
    "duration": 2113,
    "start_time": "2024-10-25T18:10:24.089Z"
   },
   {
    "duration": 809,
    "start_time": "2024-10-25T18:10:26.206Z"
   },
   {
    "duration": 3,
    "start_time": "2024-10-25T18:10:27.017Z"
   },
   {
    "duration": 16,
    "start_time": "2024-10-25T18:10:27.022Z"
   },
   {
    "duration": 3,
    "start_time": "2024-10-25T18:10:27.040Z"
   },
   {
    "duration": 29,
    "start_time": "2024-10-25T18:10:27.045Z"
   },
   {
    "duration": 32,
    "start_time": "2024-10-25T18:10:27.075Z"
   },
   {
    "duration": 6,
    "start_time": "2024-10-25T18:10:27.108Z"
   },
   {
    "duration": 976,
    "start_time": "2024-10-25T18:10:39.306Z"
   },
   {
    "duration": 499,
    "start_time": "2024-10-25T18:10:40.283Z"
   },
   {
    "duration": 160,
    "start_time": "2024-10-25T18:10:40.783Z"
   },
   {
    "duration": 93,
    "start_time": "2024-10-25T18:10:40.946Z"
   },
   {
    "duration": 169,
    "start_time": "2024-10-25T18:10:41.041Z"
   },
   {
    "duration": 7,
    "start_time": "2024-10-25T18:10:41.212Z"
   },
   {
    "duration": 5,
    "start_time": "2024-10-25T18:10:41.221Z"
   },
   {
    "duration": 10,
    "start_time": "2024-10-25T18:10:41.227Z"
   },
   {
    "duration": 34,
    "start_time": "2024-10-25T18:10:41.238Z"
   },
   {
    "duration": 31,
    "start_time": "2024-10-25T18:10:41.274Z"
   },
   {
    "duration": 6,
    "start_time": "2024-10-25T18:10:41.307Z"
   },
   {
    "duration": 2473,
    "start_time": "2024-10-25T18:10:41.315Z"
   },
   {
    "duration": 2115,
    "start_time": "2024-10-25T18:10:43.792Z"
   },
   {
    "duration": 806,
    "start_time": "2024-10-25T18:10:45.909Z"
   },
   {
    "duration": 3,
    "start_time": "2024-10-25T18:10:46.717Z"
   },
   {
    "duration": 22,
    "start_time": "2024-10-25T18:10:46.722Z"
   },
   {
    "duration": 4,
    "start_time": "2024-10-25T18:10:46.746Z"
   },
   {
    "duration": 57,
    "start_time": "2024-10-25T18:10:46.752Z"
   },
   {
    "duration": 2,
    "start_time": "2024-10-25T18:10:46.813Z"
   },
   {
    "duration": 6,
    "start_time": "2024-10-25T18:10:46.817Z"
   },
   {
    "duration": 217340,
    "start_time": "2024-10-25T18:10:46.824Z"
   },
   {
    "duration": 240465,
    "start_time": "2024-10-25T18:14:24.166Z"
   },
   {
    "duration": 4,
    "start_time": "2024-10-25T18:18:24.633Z"
   },
   {
    "duration": 4,
    "start_time": "2024-10-25T18:18:24.639Z"
   },
   {
    "duration": 234628,
    "start_time": "2024-10-25T18:18:24.645Z"
   },
   {
    "duration": 300,
    "start_time": "2024-10-25T18:22:19.275Z"
   },
   {
    "duration": 251,
    "start_time": "2024-10-25T18:22:19.577Z"
   },
   {
    "duration": 227686,
    "start_time": "2024-10-25T18:33:59.002Z"
   },
   {
    "duration": 245,
    "start_time": "2024-10-25T18:44:10.675Z"
   },
   {
    "duration": 18,
    "start_time": "2024-10-25T18:44:15.700Z"
   },
   {
    "duration": 21,
    "start_time": "2024-10-25T18:44:27.320Z"
   },
   {
    "duration": 20,
    "start_time": "2024-10-25T18:44:38.220Z"
   },
   {
    "duration": 223550,
    "start_time": "2024-10-25T18:45:02.474Z"
   },
   {
    "duration": 213,
    "start_time": "2024-10-25T18:54:56.933Z"
   },
   {
    "duration": 114114,
    "start_time": "2024-10-25T18:55:18.235Z"
   },
   {
    "duration": 126,
    "start_time": "2024-10-25T18:59:41.740Z"
   },
   {
    "duration": 18,
    "start_time": "2024-10-25T18:59:47.026Z"
   },
   {
    "duration": 235411,
    "start_time": "2024-10-25T19:00:09.065Z"
   },
   {
    "duration": 306,
    "start_time": "2024-10-25T19:04:04.478Z"
   },
   {
    "duration": 104940,
    "start_time": "2024-10-25T19:08:03.349Z"
   },
   {
    "duration": 119,
    "start_time": "2024-10-25T19:09:48.291Z"
   },
   {
    "duration": 217902,
    "start_time": "2024-10-25T19:26:42.027Z"
   },
   {
    "duration": 241661,
    "start_time": "2024-10-25T19:30:28.291Z"
   },
   {
    "duration": 3,
    "start_time": "2024-10-25T19:38:07.190Z"
   },
   {
    "duration": 351641,
    "start_time": "2024-10-25T19:38:35.802Z"
   },
   {
    "duration": 452,
    "start_time": "2024-10-25T19:44:27.445Z"
   },
   {
    "duration": 20,
    "start_time": "2024-10-25T19:44:34.105Z"
   },
   {
    "duration": 353497,
    "start_time": "2024-10-25T19:50:19.365Z"
   },
   {
    "duration": 440,
    "start_time": "2024-10-25T19:56:12.865Z"
   },
   {
    "duration": 7,
    "start_time": "2024-10-25T19:56:39.129Z"
   }
  ],
  "kernelspec": {
   "display_name": "Python 3 (ipykernel)",
   "language": "python",
   "name": "python3"
  },
  "language_info": {
   "codemirror_mode": {
    "name": "ipython",
    "version": 3
   },
   "file_extension": ".py",
   "mimetype": "text/x-python",
   "name": "python",
   "nbconvert_exporter": "python",
   "pygments_lexer": "ipython3",
   "version": "3.12.4"
  },
  "toc": {
   "base_numbering": 1,
   "nav_menu": {},
   "number_sections": true,
   "sideBar": true,
   "skip_h1_title": true,
   "title_cell": "Table of Contents",
   "title_sidebar": "Contents",
   "toc_cell": false,
   "toc_position": {},
   "toc_section_display": true,
   "toc_window_display": false
  }
 },
 "nbformat": 4,
 "nbformat_minor": 4
}
